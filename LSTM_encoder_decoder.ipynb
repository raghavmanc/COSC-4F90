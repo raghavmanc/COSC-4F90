{
 "cells": [
  {
   "cell_type": "code",
   "execution_count": 4,
   "id": "acc4756d",
   "metadata": {},
   "outputs": [],
   "source": [
    "import numpy as np \n",
    "from numpy import argmax\n",
    "from numpy import array_equal\n",
    "from numpy import array\n",
    "import statistics\n",
    "\n",
    "import tensorflow as tf\n",
    "import itertools\n",
    "import matplotlib.pyplot as plt\n",
    "\n",
    "from sklearn.utils import shuffle\n",
    "from sklearn.model_selection import train_test_split\n",
    "from sklearn.metrics import confusion_matrix\n",
    "from sklearn.preprocessing import MinMaxScaler\n",
    "from tensorflow.keras.models import Sequential, Model\n",
    "from tensorflow.keras.layers import Dense, LSTM, Dropout\n",
    "from tensorflow.keras.optimizers import Adam\n",
    "from tensorflow.keras.preprocessing.text import one_hot\n",
    "from tensorflow.keras import Input\n",
    "from tensorflow.keras.layers import TimeDistributed\n",
    "from tensorflow.keras.layers import RepeatVector\n",
    "from tensorflow.keras.callbacks import EarlyStopping\n",
    "from tensorflow.keras.utils import plot_model\n",
    "from tensorflow.keras.layers import Lambda\n",
    "from tensorflow.keras import backend as K\n",
    "\n",
    "from keras.metrics import categorical_crossentropy\n",
    "\n",
    "from itertools import chain\n",
    "\n",
    "tf.keras.backend.set_floatx('float64')\n"
   ]
  },
  {
   "cell_type": "code",
   "execution_count": 5,
   "id": "4bd778be",
   "metadata": {},
   "outputs": [
    {
     "name": "stdout",
     "output_type": "stream",
     "text": [
      "Default GPU Device: /device:GPU:0\n"
     ]
    }
   ],
   "source": [
    "#Checking for tensorflow-GPU\n",
    "if tf.test.gpu_device_name():\n",
    "    print('Default GPU Device: {}'.format(tf.test.gpu_device_name()))\n",
    "else:\n",
    "    print(\"Please install GPU version of TF\")\n"
   ]
  },
  {
   "cell_type": "code",
   "execution_count": 6,
   "id": "80070fb1",
   "metadata": {},
   "outputs": [
    {
     "name": "stdout",
     "output_type": "stream",
     "text": [
      "Unizipped Attack File\n",
      "Unizipped Validation File\n",
      "Unizipped Training File\n",
      "Normal Data     --->  train_normal_data\n",
      "Attack Data     --->  train_attack_data\n",
      "Validation Data --->  train_validation_data\n"
     ]
    }
   ],
   "source": [
    "#Unzipping Attack and Validation folders\n",
    "\n",
    "# Unzip Attack Folder to retrive subfolfers\n",
    "from zipfile import ZipFile\n",
    "file_name = \"Attack_Data_Master.zip\"\n",
    "\n",
    "with ZipFile(file_name, 'r') as zip:\n",
    "  zip.extractall()\n",
    "  print('Unizipped Attack File')\n",
    "    \n",
    "# Unzip Validation Folder to retrive subfolfers\n",
    "from zipfile import ZipFile\n",
    "file_name = \"Validation_Data_Master.zip\"\n",
    "\n",
    "with ZipFile(file_name, 'r') as zip:\n",
    "  zip.extractall()\n",
    "  print('Unizipped Validation File')\n",
    "    \n",
    "# Unzip Training Folder to retrive subfolfers\n",
    "from zipfile import ZipFile\n",
    "file_name = \"Training_Data_Master.zip\"\n",
    "\n",
    "with ZipFile(file_name, 'r') as zip:\n",
    "  zip.extractall()\n",
    "  print('Unizipped Training File')\n",
    "\n",
    "# list holding normal training data\n",
    "train_normal_data = [] \n",
    "\n",
    "\n",
    "\n",
    "from pathlib import Path \n",
    "# list that holds attack vectors\n",
    "train_attack_data = []\n",
    "\n",
    "# Set file path ot the folder for iterations\n",
    "input_dir = Path.cwd() / \"Attack_Data_Master\"\n",
    "# store all the files ending with .txt in a list called files\n",
    "files = list (input_dir.rglob(\"*.txt*\"))\n",
    "# Iterate over all the txt files and append the attack in the list train_attack data\n",
    "for FILE in files:\n",
    "  with open (FILE, 'r') as f:\n",
    "    stringData = (f.read())\n",
    "    string_split_data = stringData.split(\" \")\n",
    "    del (string_split_data[-1])\n",
    "    train_attack_data.append(string_split_data)\n",
    "    \n",
    "\n",
    "for i in range(len(train_attack_data)):\n",
    "  for j in range(len(train_attack_data[i])):\n",
    "    train_attack_data[i][j] = int(train_attack_data[i][j])\n",
    "\n",
    "from pathlib import Path \n",
    "# list that holds validation vectors\n",
    "train_validation_data = []\n",
    "\n",
    "# Set file path ot the folder for iterations\n",
    "input_dir = Path.cwd() / \"Validation_Data_Master\"\n",
    "# store all the files ending with .txt in a list called files\n",
    "files = list (input_dir.rglob(\"*.txt*\"))\n",
    "# Iterate over all the txt files and append the attack in the list train_attack data\n",
    "for FILE in files:\n",
    "  with open (FILE, 'r') as f:\n",
    "    stringData = (f.read())\n",
    "    string_split_data = stringData.split(\" \")\n",
    "    del (string_split_data[-1])\n",
    "    train_validation_data.append(string_split_data)\n",
    "    \n",
    "\n",
    "# list that holds training vectors\n",
    "train_normal_data = []\n",
    "\n",
    "# Set file path ot the folder for iterations\n",
    "input_dir = Path.cwd() / \"Training_Data_Master\"\n",
    "# store all the files ending with .txt in a list called files\n",
    "files = list (input_dir.rglob(\"*.txt*\"))\n",
    "# Iterate over all the txt files and append the attack in the list train_attack data\n",
    "for FILE in files:\n",
    "  with open (FILE, 'r') as f:\n",
    "    stringData = (f.read())\n",
    "    string_split_data = stringData.split(\" \")\n",
    "    del (string_split_data[-1])\n",
    "    train_normal_data.append(string_split_data)\n",
    "    \n",
    "\n",
    "for i in range(len(train_normal_data)):\n",
    "  for j in range(len(train_normal_data[i])):\n",
    "    train_normal_data[i][j] = int(train_normal_data[i][j])\n",
    "print(\"Normal Data     --->  train_normal_data\")\n",
    "print(\"Attack Data     --->  train_attack_data\")\n",
    "print(\"Validation Data --->  train_validation_data\")\n"
   ]
  },
  {
   "cell_type": "code",
   "execution_count": 7,
   "id": "fca80597",
   "metadata": {},
   "outputs": [
    {
     "name": "stdout",
     "output_type": "stream",
     "text": [
      "Shortest Request Length is 79\n",
      "Longest Request Length is 2948\n",
      "Average Request Length is 369\n"
     ]
    }
   ],
   "source": [
    "#Statistics of the data\n",
    "\n",
    "#Shortest request\n",
    "shortest_seq = 1000;\n",
    "#Longest request\n",
    "longest_seq = 0;\n",
    "#Average Request size in dataset\n",
    "avg_seq = 0\n",
    "\n",
    "sum = 0;\n",
    "for i in range(len(train_normal_data)):\n",
    "    curr_sequence_length = len(train_normal_data[i])\n",
    "    if curr_sequence_length < shortest_seq:\n",
    "        shortest_seq = curr_sequence_length\n",
    "    if curr_sequence_length > longest_seq:\n",
    "        longest_seq = curr_sequence_length\n",
    "    sum += curr_sequence_length\n",
    "avg_seq = int(sum/len(train_normal_data))\n",
    "\n",
    "print(f\"Shortest Request Length is {shortest_seq}\")\n",
    "print(f\"Longest Request Length is {longest_seq}\")\n",
    "print(f\"Average Request Length is {avg_seq}\")\n",
    "    "
   ]
  },
  {
   "cell_type": "code",
   "execution_count": 8,
   "id": "56cdf4bb",
   "metadata": {},
   "outputs": [
    {
     "data": {
      "text/plain": [
       "4372"
      ]
     },
     "execution_count": 8,
     "metadata": {},
     "output_type": "execute_result"
    }
   ],
   "source": [
    "len(train_validation_data)"
   ]
  },
  {
   "cell_type": "code",
   "execution_count": 9,
   "id": "3bdda110",
   "metadata": {},
   "outputs": [],
   "source": [
    "#Number of unique system calls in the normal list\n",
    "unique_normal = []\n",
    "# System calls that are present in the attack list but not in normal\n",
    "attack_not_in_normal = []\n",
    "\n",
    "#Appending unique system calls from the normal list\n",
    "for i in range(len(train_normal_data)):\n",
    "    for j in range(len(train_normal_data[i])):\n",
    "        curr_sys_call = train_normal_data[i][j]\n",
    "        if curr_sys_call in unique_normal:\n",
    "            continue\n",
    "        else:\n",
    "            unique_normal.append(curr_sys_call)\n",
    "\n",
    "#Appending unique system calls from the attack list that are not present in normal\n",
    "for i in range(len(train_attack_data)):\n",
    "    for j in range(len(train_attack_data[i])):\n",
    "        curr_sys_call = train_attack_data[i][j]\n",
    "        if curr_sys_call not in unique_normal:\n",
    "            attack_not_in_normal.append(curr_sys_call)"
   ]
  },
  {
   "cell_type": "code",
   "execution_count": 10,
   "id": "0244f3ee",
   "metadata": {},
   "outputs": [
    {
     "data": {
      "text/plain": [
       "150"
      ]
     },
     "execution_count": 10,
     "metadata": {},
     "output_type": "execute_result"
    }
   ],
   "source": [
    "# Unique system calls in normal list\n",
    "len(unique_normal)"
   ]
  },
  {
   "cell_type": "code",
   "execution_count": 11,
   "id": "bcd06eee",
   "metadata": {},
   "outputs": [
    {
     "data": {
      "text/plain": [
       "[324, 324, 324, 324, 324, 324, 324, 173, 156]"
      ]
     },
     "execution_count": 11,
     "metadata": {},
     "output_type": "execute_result"
    }
   ],
   "source": [
    "# Unique system calls in attack list not present in normal\n",
    "attack_not_in_normal"
   ]
  },
  {
   "cell_type": "code",
   "execution_count": 12,
   "id": "858e7ea9",
   "metadata": {},
   "outputs": [],
   "source": [
    "freq_normal_dict = {}\n",
    "#Appending unique system calls from the normal list\n",
    "for i in range(len(train_normal_data)):\n",
    "    for j in range(len(train_normal_data[i])):\n",
    "        curr_sys_call = train_normal_data[i][j]\n",
    "        if curr_sys_call in freq_normal_dict:\n",
    "            freq_normal_dict[curr_sys_call] += 1 \n",
    "        else:\n",
    "            freq_normal_dict[curr_sys_call] = 0\n"
   ]
  },
  {
   "cell_type": "code",
   "execution_count": 13,
   "id": "5cdc9d7f",
   "metadata": {},
   "outputs": [
    {
     "name": "stdout",
     "output_type": "stream",
     "text": [
      "1:538 3:55663 4:31341 5:20502 6:22781 7:1554 8:1 9:40 10:246 11:700 12:70 13:893 15:22 19:832 20:79 21:3 26:3 27:189 30:15 33:7257 37:17 38:223 39:47 40:68 41:92 42:1226 43:1 45:5941 54:2768 57:40 60:104 63:941 64:72 65:9 66:44 75:0 77:1 78:10007 83:6 85:402 91:5599 93:19 94:32 96:11 97:29 99:6 102:8645 104:2 110:0 114:792 117:14 118:283 119:184 120:2214 122:298 125:4824 128:1 132:2 133:16 140:3759 141:268 142:1427 143:36 144:6 146:1602 148:32 155:39 157:30 158:97 159:88 160:82 162:259 163:24 168:10751 172:34 174:5911 175:5841 176:117 179:2 180:5960 183:22 184:1 185:0 191:198 192:13096 194:29 195:19413 196:3740 197:9975 198:0 199:344 200:111 201:377 202:123 203:8 204:8 205:6 206:5 207:29 208:11 209:20 211:15 212:8 213:19 214:6 219:281 220:1272 221:9783 224:0 226:9 228:8 229:15 230:7 231:8 233:0 234:1 240:13708 242:66 243:353 252:391 254:13 255:132 256:96 258:157 259:0 260:0 264:0 265:8222 266:44 268:123 269:11 270:2 272:4 289:6 292:43 293:8 295:8 298:3 300:35 301:194 307:46 308:314 309:332 311:276 314:23 320:8 322:0 331:250 332:2 340:35 "
     ]
    }
   ],
   "source": [
    " for i in sorted (freq_normal_dict.keys()):\n",
    "     print(f\"{i}:{freq_normal_dict[i]}\", end = \" \")"
   ]
  },
  {
   "cell_type": "code",
   "execution_count": 14,
   "id": "2fc42733",
   "metadata": {},
   "outputs": [],
   "source": [
    "freq_attack_dict = {}\n",
    "#Appending unique system calls from the normal list\n",
    "for i in range(len(train_attack_data)):\n",
    "    for j in range(len(train_attack_data[i])):\n",
    "        curr_sys_call = train_attack_data[i][j]\n",
    "        if curr_sys_call in freq_attack_dict:\n",
    "            freq_attack_dict[curr_sys_call] += 1 \n",
    "        else:\n",
    "            freq_attack_dict[curr_sys_call] = 0"
   ]
  },
  {
   "cell_type": "code",
   "execution_count": 15,
   "id": "bf5110c5",
   "metadata": {},
   "outputs": [
    {
     "name": "stdout",
     "output_type": "stream",
     "text": [
      "3:45818 4:5551 5:6445 6:4190 7:293 10:224 11:66 12:48 13:6750 19:1693 20:1 27:749 33:1451 37:2 38:1 39:15 40:5 41:17 42:3 43:6070 45:346 54:4724 57:46 60:57 63:62 64:0 65:4 66:17 78:21124 85:723 91:2368 102:7780 104:2581 114:2045 117:5 118:4 119:518 120:160 122:111 125:1696 132:0 140:1132 141:67 142:11781 146:5505 156:0 158:111 160:0 162:6991 163:124 168:75174 172:9 173:0 174:1951 175:2694 183:25 191:61 192:3578 194:0 195:3321 196:794 197:1970 199:253 200:1 201:87 202:1 205:0 206:26 219:156 220:161 221:629 224:2 240:11315 242:15 243:54 256:573 258:67 265:61395 266:2 268:102 292:102 295:17 300:32 301:755 307:12 309:1973 311:70 324:6 331:12 340:429 "
     ]
    }
   ],
   "source": [
    " for i in sorted (freq_attack_dict.keys()) :\n",
    "     print(f\"{i}:{freq_attack_dict[i]}\", end = \" \")"
   ]
  },
  {
   "cell_type": "code",
   "execution_count": 16,
   "id": "d711cd33",
   "metadata": {},
   "outputs": [],
   "source": [
    "#Generating one hot vectors\n",
    "dict = {}\n",
    "vocab_size = 341\n",
    "\n",
    "for x in range(vocab_size):\n",
    "    arr=[]\n",
    "    arr = [0 for i in range(vocab_size)] \n",
    "    arr[x] = 1\n",
    "    dict[x] = arr"
   ]
  },
  {
   "cell_type": "code",
   "execution_count": 17,
   "id": "a6add9fa",
   "metadata": {},
   "outputs": [],
   "source": [
    "#Sequence size\n",
    "n = 15\n",
    "#N-Gram\n",
    "m = 5"
   ]
  },
  {
   "cell_type": "code",
   "execution_count": 18,
   "id": "2c3610ac",
   "metadata": {},
   "outputs": [],
   "source": [
    "# This method receives a request array and returns one hot encoded version of that array\n",
    "def generate_one_hot(request):\n",
    "    temp = []\n",
    "    for sys_call in request:\n",
    "        temp.append(dict[int(sys_call)])\n",
    "    return temp\n",
    "\n",
    "# This method recevies a request array, start and  end of the request and populates x_train and y_train\n",
    "# with returned one hot version from the generate_trainSet method\n",
    "def split_request(source, target, request, start, end):\n",
    "    while(len(request)-start >= n+m):\n",
    "        source.append(generate_one_hot(request[start:end]))\n",
    "        start += m\n",
    "        end += m\n",
    "        target.append(generate_one_hot(request[start:end]))\n",
    "    "
   ]
  },
  {
   "cell_type": "code",
   "execution_count": 19,
   "id": "e471c34b",
   "metadata": {},
   "outputs": [],
   "source": [
    "x_train = []\n",
    "y_train = [] \n",
    "\n",
    "# Populating x_train and y_train with sources and targets\n",
    "for i in range(len(train_normal_data)):\n",
    "    split_request(x_train, y_train, train_normal_data[i],0,n)"
   ]
  },
  {
   "cell_type": "code",
   "execution_count": 20,
   "id": "decd63fa",
   "metadata": {},
   "outputs": [
    {
     "name": "stdout",
     "output_type": "stream",
     "text": [
      "58791\n",
      "58791\n",
      "833\n"
     ]
    }
   ],
   "source": [
    "print(len(x_train))\n",
    "print(len(y_train))\n",
    "print(len(train_normal_data))\n"
   ]
  },
  {
   "cell_type": "code",
   "execution_count": 21,
   "id": "6343e4f7",
   "metadata": {},
   "outputs": [],
   "source": [
    "x_train = x_train[:58000]\n",
    "y_train = y_train[:58000]"
   ]
  },
  {
   "cell_type": "code",
   "execution_count": 22,
   "id": "9bf8737f",
   "metadata": {},
   "outputs": [],
   "source": [
    "#Converting x_train and y_train into np arrays\n",
    "x_train = np.array(x_train)\n",
    "y_train = np.array(y_train)"
   ]
  },
  {
   "cell_type": "code",
   "execution_count": 23,
   "id": "3d7d9a78",
   "metadata": {},
   "outputs": [
    {
     "name": "stdout",
     "output_type": "stream",
     "text": [
      "(58000, 15, 341)\n"
     ]
    }
   ],
   "source": [
    "#x_train = x_train.reshape((x_train.shape[0], x_train.shape[1], 1))\n",
    "print(x_train.shape)"
   ]
  },
  {
   "cell_type": "code",
   "execution_count": 24,
   "id": "d5858259",
   "metadata": {},
   "outputs": [],
   "source": [
    "# split test data into training and testing sets\n",
    "x_train, x_test,y_train,y_test = train_test_split(x_train,y_train,test_size=0.20,random_state=4)"
   ]
  },
  {
   "cell_type": "code",
   "execution_count": 25,
   "id": "0e1f7af6",
   "metadata": {},
   "outputs": [
    {
     "name": "stdout",
     "output_type": "stream",
     "text": [
      "(11600, 15, 341)\n"
     ]
    }
   ],
   "source": [
    "print(x_test.shape)"
   ]
  },
  {
   "cell_type": "code",
   "execution_count": 26,
   "id": "8e2fde0b",
   "metadata": {},
   "outputs": [],
   "source": [
    "n_timesteps_in= n\n",
    "n_features = vocab_size\n",
    "numberOfLSTMunits = 200 \n",
    "\n",
    "def create_hard_coded_decoder_input_model(batch_size):\n",
    "  # The first part is encoder\n",
    "  encoder_inputs = Input(shape=(n_timesteps_in, n_features), name='encoder_inputs')\n",
    "  encoder_lstm = LSTM(numberOfLSTMunits, return_state=True,  name='encoder_lstm')\n",
    "  encoder_outputs, state_h, state_c = encoder_lstm(encoder_inputs)\n",
    "  \n",
    "  # initial context vector is the states of the encoder\n",
    "  states = [state_h, state_c]\n",
    "  \n",
    "  # Set up the decoder layers\n",
    "  # Attention: decoder receives 1 token at a time &\n",
    "  # decoder outputs 1 token at a time \n",
    "  decoder_inputs = Input(shape=(1, n_features))\n",
    "  decoder_lstm = LSTM(numberOfLSTMunits, return_sequences=True, \n",
    "                      return_state=True, name='decoder_lstm')\n",
    "  decoder_dense = Dense(n_features, activation='softmax',  name='decoder_dense')\n",
    "\n",
    "  all_outputs = []\n",
    "  # Prepare decoder initial input data: just contains the START character 0\n",
    "  # Note that we made it a constant one-hot-encoded in the model\n",
    "  # that is, [1 0 0 0 0 0 0 0 0 0] is the initial input for each loop\n",
    "  decoder_input_data = np.zeros((batch_size, 1, n_features))\n",
    "  decoder_input_data[:, 0, 0] = 1 \n",
    "  \n",
    "  # that is, [1 0 0 0 0 0 0 0 0 0] is the initial input for each loop\n",
    "  inputs = decoder_input_data\n",
    "  # decoder will only process one time step at a time\n",
    "  # loops for fixed number of time steps: n_timesteps_in\n",
    "  for _ in range(n_timesteps_in):\n",
    "      # Run the decoder on one time step\n",
    "      outputs, state_h, state_c = decoder_lstm(inputs,\n",
    "                                              initial_state=states)\n",
    "      outputs = decoder_dense(outputs)\n",
    "      # Store the current prediction (we will concatenate all predictions later)\n",
    "      all_outputs.append(outputs)\n",
    "      # Reinject the outputs as inputs for the next loop iteration\n",
    "      # as well as update the states\n",
    "      inputs = outputs\n",
    "      states = [state_h, state_c]\n",
    "\n",
    "  # Concatenate all predictions such as [batch_size, timesteps, features]\n",
    "  decoder_outputs = Lambda(lambda x: K.concatenate(x, axis=1))(all_outputs)\n",
    "\n",
    "  # Define and compile model \n",
    "  model = Model(encoder_inputs, decoder_outputs, name='model_encoder_decoder')\n",
    "  model.compile(optimizer='rmsprop', loss='categorical_crossentropy', metrics=['accuracy'])\n",
    "  return model"
   ]
  },
  {
   "cell_type": "code",
   "execution_count": 27,
   "id": "f5c21b07",
   "metadata": {},
   "outputs": [],
   "source": [
    "#@title Function to Train & Test  given model (Early Stopping monitor 'val_loss')\n",
    "def train_test(model, X_train, y_train , X_test, \ty_test, epochs=500, batch_size=32, patience=5,verbose=0):\n",
    "\t# patient early stopping\n",
    "\t#es = EarlyStopping(monitor='val_accuracy', mode='max', min_delta=1, patience=20)\n",
    "\tes = EarlyStopping(monitor='val_loss', mode='min', verbose=1, patience=patience)\n",
    "\t# train model\n",
    "\tprint('training for ',epochs,' epochs begins with EarlyStopping(monitor= val_loss, patience=',patience,')....')\n",
    "\thistory=model.fit(X_train, y_train, validation_split= 0.1, epochs=epochs,batch_size=batch_size, verbose=verbose, callbacks=[es])\n",
    "\tprint(epochs,' epoch training finished...')\n",
    "\n",
    "\t# report training\n",
    "\t# list all data in history\n",
    "\t#print(history.history.keys())\n",
    "\t# evaluate the model\n",
    "\t_, train_acc = model.evaluate(X_train, y_train, batch_size=batch_size, verbose=0)\n",
    "\t_, test_acc = model.evaluate(X_test, \ty_test, batch_size=batch_size, verbose=0)\n",
    "\tprint('\\nPREDICTION ACCURACY (%):')\n",
    "\tprint('Train: %.3f, Test: %.3f' % (train_acc*100, test_acc*100))\n",
    "\t# summarize history for accuracy\n",
    "\tplt.plot(history.history['accuracy'])\n",
    "\tplt.plot(history.history['val_accuracy'])\n",
    "\tplt.title(model.name+' accuracy')\n",
    "\tplt.ylabel('accuracy')\n",
    "\tplt.xlabel('epoch')\n",
    "\tplt.legend(['train', 'val'], loc='upper left')\n",
    "\tplt.show()\n",
    "\t# summarize history for loss\n",
    "\tplt.plot(history.history['loss'])\n",
    "\tplt.plot(history.history['val_loss'])\n",
    "\tplt.title(model.name+' loss')\n",
    "\tplt.ylabel('loss')\n",
    "\tplt.xlabel('epoch')\n",
    "\tplt.legend(['train', 'val'], loc='upper left')\n",
    "\tplt.show()"
   ]
  },
  {
   "cell_type": "code",
   "execution_count": 30,
   "id": "4f8a68dd",
   "metadata": {},
   "outputs": [
    {
     "name": "stdout",
     "output_type": "stream",
     "text": [
      "Model: \"model_encoder_decoder\"\n",
      "__________________________________________________________________________________________________\n",
      " Layer (type)                   Output Shape         Param #     Connected to                     \n",
      "==================================================================================================\n",
      " encoder_inputs (InputLayer)    [(None, 15, 341)]    0           []                               \n",
      "                                                                                                  \n",
      " encoder_lstm (LSTM)            [(None, 200),        433600      ['encoder_inputs[0][0]']         \n",
      "                                 (None, 200),                                                     \n",
      "                                 (None, 200)]                                                     \n",
      "                                                                                                  \n",
      " decoder_lstm (LSTM)            [(40, 1, 200),       433600      ['encoder_lstm[0][1]',           \n",
      "                                 (None, 200),                     'encoder_lstm[0][2]',           \n",
      "                                 (None, 200)]                     'decoder_dense[0][0]',          \n",
      "                                                                  'decoder_lstm[0][1]',           \n",
      "                                                                  'decoder_lstm[0][2]',           \n",
      "                                                                  'decoder_dense[1][0]',          \n",
      "                                                                  'decoder_lstm[1][1]',           \n",
      "                                                                  'decoder_lstm[1][2]',           \n",
      "                                                                  'decoder_dense[2][0]',          \n",
      "                                                                  'decoder_lstm[2][1]',           \n",
      "                                                                  'decoder_lstm[2][2]',           \n",
      "                                                                  'decoder_dense[3][0]',          \n",
      "                                                                  'decoder_lstm[3][1]',           \n",
      "                                                                  'decoder_lstm[3][2]',           \n",
      "                                                                  'decoder_dense[4][0]',          \n",
      "                                                                  'decoder_lstm[4][1]',           \n",
      "                                                                  'decoder_lstm[4][2]',           \n",
      "                                                                  'decoder_dense[5][0]',          \n",
      "                                                                  'decoder_lstm[5][1]',           \n",
      "                                                                  'decoder_lstm[5][2]',           \n",
      "                                                                  'decoder_dense[6][0]',          \n",
      "                                                                  'decoder_lstm[6][1]',           \n",
      "                                                                  'decoder_lstm[6][2]',           \n",
      "                                                                  'decoder_dense[7][0]',          \n",
      "                                                                  'decoder_lstm[7][1]',           \n",
      "                                                                  'decoder_lstm[7][2]',           \n",
      "                                                                  'decoder_dense[8][0]',          \n",
      "                                                                  'decoder_lstm[8][1]',           \n",
      "                                                                  'decoder_lstm[8][2]',           \n",
      "                                                                  'decoder_dense[9][0]',          \n",
      "                                                                  'decoder_lstm[9][1]',           \n",
      "                                                                  'decoder_lstm[9][2]',           \n",
      "                                                                  'decoder_dense[10][0]',         \n",
      "                                                                  'decoder_lstm[10][1]',          \n",
      "                                                                  'decoder_lstm[10][2]',          \n",
      "                                                                  'decoder_dense[11][0]',         \n",
      "                                                                  'decoder_lstm[11][1]',          \n",
      "                                                                  'decoder_lstm[11][2]',          \n",
      "                                                                  'decoder_dense[12][0]',         \n",
      "                                                                  'decoder_lstm[12][1]',          \n",
      "                                                                  'decoder_lstm[12][2]',          \n",
      "                                                                  'decoder_dense[13][0]',         \n",
      "                                                                  'decoder_lstm[13][1]',          \n",
      "                                                                  'decoder_lstm[13][2]']          \n",
      "                                                                                                  \n",
      " decoder_dense (Dense)          (40, 1, 341)         68541       ['decoder_lstm[0][0]',           \n",
      "                                                                  'decoder_lstm[1][0]',           \n",
      "                                                                  'decoder_lstm[2][0]',           \n",
      "                                                                  'decoder_lstm[3][0]',           \n",
      "                                                                  'decoder_lstm[4][0]',           \n",
      "                                                                  'decoder_lstm[5][0]',           \n",
      "                                                                  'decoder_lstm[6][0]',           \n",
      "                                                                  'decoder_lstm[7][0]',           \n",
      "                                                                  'decoder_lstm[8][0]',           \n",
      "                                                                  'decoder_lstm[9][0]',           \n",
      "                                                                  'decoder_lstm[10][0]',          \n",
      "                                                                  'decoder_lstm[11][0]',          \n",
      "                                                                  'decoder_lstm[12][0]',          \n",
      "                                                                  'decoder_lstm[13][0]',          \n",
      "                                                                  'decoder_lstm[14][0]']          \n",
      "                                                                                                  \n",
      " lambda_1 (Lambda)              (40, 15, 341)        0           ['decoder_dense[0][0]',          \n",
      "                                                                  'decoder_dense[1][0]',          \n",
      "                                                                  'decoder_dense[2][0]',          \n",
      "                                                                  'decoder_dense[3][0]',          \n",
      "                                                                  'decoder_dense[4][0]',          \n",
      "                                                                  'decoder_dense[5][0]',          \n",
      "                                                                  'decoder_dense[6][0]',          \n",
      "                                                                  'decoder_dense[7][0]',          \n",
      "                                                                  'decoder_dense[8][0]',          \n",
      "                                                                  'decoder_dense[9][0]',          \n",
      "                                                                  'decoder_dense[10][0]',         \n",
      "                                                                  'decoder_dense[11][0]',         \n",
      "                                                                  'decoder_dense[12][0]',         \n"
     ]
    },
    {
     "name": "stdout",
     "output_type": "stream",
     "text": [
      "                                                                  'decoder_dense[13][0]',         \n",
      "                                                                  'decoder_dense[14][0]']         \n",
      "                                                                                                  \n",
      "==================================================================================================\n",
      "Total params: 935,741\n",
      "Trainable params: 935,741\n",
      "Non-trainable params: 0\n",
      "__________________________________________________________________________________________________\n"
     ]
    }
   ],
   "source": [
    "#@title\n",
    "batch_size = 40\n",
    "model_encoder_decoder=create_hard_coded_decoder_input_model(batch_size=batch_size)\n",
    "model_encoder_decoder.summary()\n",
    "\n",
    "# due to conflict between tf version:  2.4.1 and tf.keras version: 2.4.0 \n",
    "# currently plot_model function generates error\n",
    "# it is a known bug as of 23 May 2021\n",
    "# therefore I commented the plot_model call below.\n",
    "#tf.keras.utils.plot_model(model_encoder_decoder, show_shapes=True)"
   ]
  },
  {
   "cell_type": "code",
   "execution_count": 31,
   "id": "a80a333f",
   "metadata": {},
   "outputs": [
    {
     "name": "stdout",
     "output_type": "stream",
     "text": [
      "training for  500  epochs begins with EarlyStopping(monitor= val_loss, patience= 5 )....\n",
      "Epoch 1/500\n",
      "1044/1044 [==============================] - 106s 85ms/step - loss: 1.6571 - accuracy: 0.4953 - val_loss: 1.3746 - val_accuracy: 0.5310\n",
      "Epoch 2/500\n",
      "1044/1044 [==============================] - 95s 91ms/step - loss: 1.2321 - accuracy: 0.5782 - val_loss: 1.1335 - val_accuracy: 0.5944\n",
      "Epoch 3/500\n",
      "1044/1044 [==============================] - 100s 96ms/step - loss: 1.0147 - accuracy: 0.6497 - val_loss: 0.9383 - val_accuracy: 0.6756\n",
      "Epoch 4/500\n",
      "1044/1044 [==============================] - 105s 100ms/step - loss: 0.8820 - accuracy: 0.6957 - val_loss: 0.8361 - val_accuracy: 0.7139\n",
      "Epoch 5/500\n",
      "1044/1044 [==============================] - 107s 103ms/step - loss: 0.7903 - accuracy: 0.7292 - val_loss: 0.7911 - val_accuracy: 0.7304\n",
      "Epoch 6/500\n",
      "1044/1044 [==============================] - 106s 101ms/step - loss: 0.7178 - accuracy: 0.7572 - val_loss: 0.6992 - val_accuracy: 0.7672\n",
      "Epoch 7/500\n",
      "1044/1044 [==============================] - 105s 101ms/step - loss: 0.6574 - accuracy: 0.7816 - val_loss: 0.6563 - val_accuracy: 0.7865\n",
      "Epoch 8/500\n",
      "1044/1044 [==============================] - 109s 104ms/step - loss: 0.6082 - accuracy: 0.8012 - val_loss: 0.6251 - val_accuracy: 0.7958\n",
      "Epoch 9/500\n",
      "1044/1044 [==============================] - 110s 105ms/step - loss: 0.5680 - accuracy: 0.8171 - val_loss: 0.5896 - val_accuracy: 0.8121\n",
      "Epoch 10/500\n",
      "1044/1044 [==============================] - 111s 106ms/step - loss: 0.5369 - accuracy: 0.8283 - val_loss: 0.5640 - val_accuracy: 0.8216\n",
      "Epoch 11/500\n",
      "1044/1044 [==============================] - 109s 105ms/step - loss: 0.5094 - accuracy: 0.8378 - val_loss: 0.5595 - val_accuracy: 0.8234\n",
      "Epoch 12/500\n",
      "1044/1044 [==============================] - 110s 105ms/step - loss: 0.4858 - accuracy: 0.8462 - val_loss: 0.5319 - val_accuracy: 0.8353\n",
      "Epoch 13/500\n",
      "1044/1044 [==============================] - 110s 105ms/step - loss: 0.4667 - accuracy: 0.8527 - val_loss: 0.5264 - val_accuracy: 0.8356\n",
      "Epoch 14/500\n",
      "1044/1044 [==============================] - 110s 105ms/step - loss: 0.4479 - accuracy: 0.8591 - val_loss: 0.5113 - val_accuracy: 0.8415\n",
      "Epoch 15/500\n",
      "1044/1044 [==============================] - 111s 106ms/step - loss: 0.4323 - accuracy: 0.8643 - val_loss: 0.5069 - val_accuracy: 0.8446\n",
      "Epoch 16/500\n",
      "1044/1044 [==============================] - 111s 106ms/step - loss: 0.4215 - accuracy: 0.8680 - val_loss: 0.4963 - val_accuracy: 0.8484\n",
      "Epoch 17/500\n",
      "1044/1044 [==============================] - 111s 106ms/step - loss: 0.4082 - accuracy: 0.8725 - val_loss: 0.5265 - val_accuracy: 0.8415\n",
      "Epoch 18/500\n",
      "1044/1044 [==============================] - 114s 110ms/step - loss: 0.3970 - accuracy: 0.8756 - val_loss: 0.4901 - val_accuracy: 0.8534\n",
      "Epoch 19/500\n",
      "1044/1044 [==============================] - 122s 117ms/step - loss: 0.3880 - accuracy: 0.8785 - val_loss: 0.4885 - val_accuracy: 0.8545\n",
      "Epoch 20/500\n",
      "1044/1044 [==============================] - 118s 113ms/step - loss: 0.3771 - accuracy: 0.8818 - val_loss: 0.4970 - val_accuracy: 0.8523\n",
      "Epoch 21/500\n",
      "1044/1044 [==============================] - 112s 108ms/step - loss: 0.3686 - accuracy: 0.8847 - val_loss: 0.4823 - val_accuracy: 0.8560\n",
      "Epoch 22/500\n",
      "1044/1044 [==============================] - 111s 106ms/step - loss: 0.3615 - accuracy: 0.8871 - val_loss: 0.4890 - val_accuracy: 0.8553\n",
      "Epoch 23/500\n",
      "1044/1044 [==============================] - 113s 108ms/step - loss: 0.3532 - accuracy: 0.8891 - val_loss: 0.4837 - val_accuracy: 0.8583\n",
      "Epoch 24/500\n",
      "1044/1044 [==============================] - 113s 109ms/step - loss: 0.3465 - accuracy: 0.8913 - val_loss: 0.4868 - val_accuracy: 0.8596\n",
      "Epoch 25/500\n",
      "1044/1044 [==============================] - 114s 109ms/step - loss: 0.3399 - accuracy: 0.8930 - val_loss: 0.4733 - val_accuracy: 0.8606\n",
      "Epoch 26/500\n",
      "1044/1044 [==============================] - 191s 183ms/step - loss: 0.3363 - accuracy: 0.8946 - val_loss: 0.4788 - val_accuracy: 0.8620\n",
      "Epoch 27/500\n",
      "1044/1044 [==============================] - 346s 331ms/step - loss: 0.3292 - accuracy: 0.8964 - val_loss: 0.4845 - val_accuracy: 0.8605\n",
      "Epoch 28/500\n",
      "1044/1044 [==============================] - 339s 325ms/step - loss: 0.3245 - accuracy: 0.8977 - val_loss: 0.4839 - val_accuracy: 0.8613\n",
      "Epoch 29/500\n",
      "1044/1044 [==============================] - 338s 324ms/step - loss: 0.3187 - accuracy: 0.8994 - val_loss: 0.4824 - val_accuracy: 0.8631\n",
      "Epoch 30/500\n",
      "1044/1044 [==============================] - 340s 326ms/step - loss: 0.3138 - accuracy: 0.9014 - val_loss: 0.4776 - val_accuracy: 0.8633\n",
      "Epoch 30: early stopping\n",
      "500  epoch training finished...\n",
      "\n",
      "PREDICTION ACCURACY (%):\n",
      "Train: 90.304, Test: 86.549\n"
     ]
    },
    {
     "data": {
      "image/png": "[encoded data removed]",
      "text/plain": [
       "<Figure size 432x288 with 1 Axes>"
      ]
     },
     "metadata": {
      "needs_background": "light"
     },
     "output_type": "display_data"
    },
    {
     "data": {
      "image/png": "[encoded data removed]",
      "text/plain": [
       "<Figure size 432x288 with 1 Axes>"
      ]
     },
     "metadata": {
      "needs_background": "light"
     },
     "output_type": "display_data"
    }
   ],
   "source": [
    "train_test(model_encoder_decoder, x_train, y_train , x_test, y_test, batch_size=batch_size,epochs=500, verbose=1)"
   ]
  },
  {
   "cell_type": "code",
   "execution_count": 32,
   "id": "1734df32",
   "metadata": {},
   "outputs": [],
   "source": [
    "# import os.path\n",
    "# if os.path.isfile('models/LSTM_HIDS.h5') is False:\n",
    "#     model_LSTM_return_sequences_return_state.save('models/LSTM_HIDS.h5')"
   ]
  },
  {
   "cell_type": "code",
   "execution_count": 33,
   "id": "1a0b5906",
   "metadata": {},
   "outputs": [],
   "source": [
    "# Receives one hot represetation and returns index where value = 1\n",
    "def one_hot_decode(arr):\n",
    "    for index,num in enumerate(arr):\n",
    "        if num == 1:\n",
    "            return index\n",
    "        \n",
    "# Receives an array to append to and a 3D-array that is one hot encoded      \n",
    "def decode(arr, three_d_array):\n",
    "    for seq in three_d_array:\n",
    "        temp = []\n",
    "        for one_hot in seq:\n",
    "            temp.append(one_hot_decode(one_hot))\n",
    "        arr.append(temp)\n",
    "    \n",
    "        "
   ]
  },
  {
   "cell_type": "code",
   "execution_count": null,
   "id": "7d484a9d",
   "metadata": {},
   "outputs": [],
   "source": [
    "# Decodes prediction done by LSTM and stores it in arr.\n",
    "def prediction_decode(arr, prediction):\n",
    "    for seq in prediction:\n",
    "        predict_temp = []\n",
    "        for one_hot in seq:\n",
    "            predict_temp.append(argmax(one_hot))\n",
    "        arr.append(predict_temp)\n",
    "    \n",
    "    "
   ]
  },
  {
   "cell_type": "code",
   "execution_count": null,
   "id": "0a9c5a23",
   "metadata": {},
   "outputs": [],
   "source": [
    "# perfect match\n",
    "from nltk.translate.bleu_score import sentence_bleu\n",
    "def calc_belu(target, prediction):\n",
    "    reference = []\n",
    "    candidate = []\n",
    "    reference.append(target)\n",
    "    candidate.extend(prediction)\n",
    "    return sentence_bleu(reference, candidate, weights=(0, 1))"
   ]
  },
  {
   "cell_type": "code",
   "execution_count": null,
   "id": "45ccb74d",
   "metadata": {},
   "outputs": [],
   "source": [
    "# VALIDATION"
   ]
  },
  {
   "cell_type": "code",
   "execution_count": null,
   "id": "a2288483",
   "metadata": {},
   "outputs": [],
   "source": []
  },
  {
   "cell_type": "code",
   "execution_count": null,
   "id": "dddad472",
   "metadata": {},
   "outputs": [],
   "source": [
    "print(train_validation_data[2])"
   ]
  },
  {
   "cell_type": "code",
   "execution_count": null,
   "id": "875aef90",
   "metadata": {},
   "outputs": [],
   "source": [
    "for i in range(len(train_validation_data)):\n",
    "    for j in range(len(train_validation_data[i])):\n",
    "        train_validation_data[i][j] = int(train_validation_data[i][j])"
   ]
  },
  {
   "cell_type": "code",
   "execution_count": null,
   "id": "9359ad74",
   "metadata": {},
   "outputs": [],
   "source": [
    "print(len(train_validation_data))"
   ]
  },
  {
   "cell_type": "code",
   "execution_count": null,
   "id": "864c2457",
   "metadata": {},
   "outputs": [],
   "source": [
    "def calc_request_belu_score(request,start,end):\n",
    "    request_sources = []\n",
    "    request_targets = []\n",
    "    request_prediction = []\n",
    "    request_scores= []\n",
    "    \n",
    "    decoded_request_targets = []\n",
    "    \n",
    "    while(len(request)-start >= n+m):\n",
    "        request_sources.append(generate_one_hot(request[start:end]))\n",
    "        start += m\n",
    "        end += m\n",
    "        request_targets.append(request[start:end])\n",
    "    \n",
    "    i = 1\n",
    "    while(i < len(request_sources)):\n",
    "        prediction_decode( request_prediction, model_LSTM_return_sequences_return_state.predict(request_sources[i-1:i]))\n",
    "        i += 1\n",
    "    \n",
    "    for i in range(len(request_prediction)):\n",
    "        request_scores.append(calc_belu(request_targets[i],request_prediction[i]))\n",
    "        \n",
    "    print(request_scores)\n",
    "    return request_scores"
   ]
  },
  {
   "cell_type": "code",
   "execution_count": null,
   "id": "7cf00468",
   "metadata": {},
   "outputs": [],
   "source": [
    "means = []\n",
    "\n",
    "for i in range(len(train_validation_data)-2300-1000):\n",
    "    print(f'{i+1}/{len(train_validation_data)-2300-1000}')\n",
    "    print('-------------------------------------------------------------------')\n",
    "    means.append(statistics.mean(calc_request_belu_score(train_validation_data[i],0,n)))\n",
    "    \n",
    "    "
   ]
  },
  {
   "cell_type": "code",
   "execution_count": null,
   "id": "46038382",
   "metadata": {},
   "outputs": [],
   "source": [
    "print(statistics.mean(means))\n",
    "print(statistics.mean(attack_means))"
   ]
  },
  {
   "cell_type": "code",
   "execution_count": null,
   "id": "348d3096",
   "metadata": {},
   "outputs": [],
   "source": [
    "len(means)"
   ]
  },
  {
   "cell_type": "markdown",
   "id": "7c4c6428",
   "metadata": {},
   "source": [
    "#Binary Classification"
   ]
  },
  {
   "cell_type": "code",
   "execution_count": null,
   "id": "c648b835",
   "metadata": {},
   "outputs": [],
   "source": [
    "# threshold = 0.834\n",
    "\n",
    "threshold = .85\n",
    "\n",
    "false_negative = []\n",
    "false_positive = []\n",
    "normal = []\n",
    "anomaly = []\n",
    "\n",
    "for avg in means:\n",
    "    if avg > threshold:\n",
    "        normal.append(avg)\n",
    "    else:\n",
    "        false_negative.append(avg)\n",
    "\n",
    "for avg in attack_means:\n",
    "    if avg > threshold:\n",
    "        false_positive.append(avg)\n",
    "    else:\n",
    "        anomaly.append(avg)\n",
    "\n",
    "    \n",
    "    \n"
   ]
  },
  {
   "cell_type": "code",
   "execution_count": null,
   "id": "4fbceb72",
   "metadata": {},
   "outputs": [],
   "source": [
    "# Pie chart, where the slices will be ordered and plotted counter-clockwise:\n",
    "labels = 'Safe','False_Negative'\n",
    "sizes = [len(normal),len(false_negative)]\n",
    "explode = (0, 0)  # only \"explode\" the 2nd slice (i.e. 'Hogs')\n",
    "\n",
    "fig1, ax1 = plt.subplots()\n",
    "ax1.pie(sizes, explode=explode, labels=labels, autopct='%1.1f%%',\n",
    "        shadow=True, startangle=90)\n",
    "ax1.axis('equal')  # Equal aspect ratio ensures that pie is drawn as a circle.\n",
    "\n",
    "plt.show()"
   ]
  },
  {
   "cell_type": "code",
   "execution_count": null,
   "id": "f123776e",
   "metadata": {},
   "outputs": [],
   "source": [
    "# Pie chart, where the slices will be ordered and plotted counter-clockwise:\n",
    "labels = 'Attack', 'False_Positive'\n",
    "sizes = [len(anomaly),len(false_positive)]\n",
    "explode = (0, 0)  # only \"explode\" the 2nd slice (i.e. 'Hogs')\n",
    "\n",
    "fig1, ax1 = plt.subplots()\n",
    "ax1.pie(sizes, explode=explode, labels=labels, autopct='%1.1f%%',\n",
    "        shadow=True, startangle=90)\n",
    "ax1.axis('equal')  # Equal aspect ratio ensures that pie is drawn as a circle.\n",
    "\n",
    "plt.show()"
   ]
  },
  {
   "cell_type": "code",
   "execution_count": null,
   "id": "ecb98fb6",
   "metadata": {},
   "outputs": [],
   "source": [
    "#Binary End"
   ]
  },
  {
   "cell_type": "code",
   "execution_count": null,
   "id": "13c09330",
   "metadata": {},
   "outputs": [],
   "source": [
    "threshold = .91\n",
    "\n",
    "weak_t = 0.78\n",
    "\n",
    "medium_t = 0.65\n",
    "\n",
    "percentages = []\n",
    "\n",
    "def calculate_threat(avg_list):\n",
    "\n",
    "    weak_count = 0\n",
    "    medium_count = 0\n",
    "    strong_count = 0\n",
    "    green_light = 0\n",
    "\n",
    "    for i in range(len(avg_list)):\n",
    "        if avg_list[i] >= threshold:\n",
    "            green_light += 1\n",
    "        elif avg_list[i] >= weak_t:\n",
    "            weak_count += 1\n",
    "        elif avg_list[i] >= medium_t:\n",
    "            medium_count += 1\n",
    "        else:\n",
    "            strong_count += 1\n",
    "    \n",
    "\n",
    "    \n",
    "    print(f'Green Light: {green_light/len(avg_list)}')        \n",
    "    print(f'Weak threat: {weak_count/len(avg_list)}')\n",
    "    print(f'Medium threat: {medium_count/len(avg_list)}')\n",
    "    print(f'Strong threat: {strong_count/len(avg_list)}')\n",
    "    \n",
    "    percentages.append(green_light/len(avg_list)* 100)\n",
    "    percentages.append(weak_count/len(avg_list) * 100)\n",
    "    percentages.append(medium_count/len(avg_list) * 100)\n",
    "    percentages.append(strong_count/len(avg_list) * 100)"
   ]
  },
  {
   "cell_type": "code",
   "execution_count": null,
   "id": "e7a19019",
   "metadata": {},
   "outputs": [],
   "source": [
    "calculate_threat(means)"
   ]
  },
  {
   "cell_type": "code",
   "execution_count": null,
   "id": "2b2f8582",
   "metadata": {},
   "outputs": [],
   "source": [
    "# Pie chart, where the slices will be ordered and plotted counter-clockwise:\n",
    "labels = 'Safe', 'Weak Threat', 'Medium Threat', 'Strong Threat'\n",
    "sizes = [percentages[0],percentages[1],percentages[2],percentages[3]]\n",
    "explode = (0.2, 0, 0, 0)  # only \"explode\" the 2nd slice (i.e. 'Hogs')\n",
    "\n",
    "fig1, ax1 = plt.subplots()\n",
    "ax1.pie(sizes, explode=explode, labels=labels, autopct='%1.1f%%',\n",
    "        shadow=True, startangle=90)\n",
    "ax1.axis('equal')  # Equal aspect ratio ensures that pie is drawn as a circle.\n",
    "\n",
    "plt.show()"
   ]
  },
  {
   "cell_type": "code",
   "execution_count": null,
   "id": "9332cb00",
   "metadata": {},
   "outputs": [],
   "source": [
    "percentages = []\n",
    "calculate_threat(attack_means)"
   ]
  },
  {
   "cell_type": "code",
   "execution_count": null,
   "id": "cb8b10a9",
   "metadata": {
    "scrolled": true
   },
   "outputs": [],
   "source": [
    "\n",
    "# Pie chart, where the slices will be ordered and plotted counter-clockwise:\n",
    "labels = 'Safe', 'Weak Threat', 'Medium Threat', 'Strong Threat'\n",
    "sizes = [percentages[0],percentages[1],percentages[2],percentages[3]]\n",
    "explode = (0.6, 0, 0, 0.3)  # only \"explode\" the 2nd slice (i.e. 'Hogs')\n",
    "\n",
    "fig1, ax1 = plt.subplots()\n",
    "ax1.pie(sizes, explode=explode, labels=labels, autopct='%1.1f%%',\n",
    "        shadow=True, startangle=90)\n",
    "ax1.axis('equal')  # Equal aspect ratio ensures that pie is drawn as a circle.\n",
    "\n",
    "plt.show()"
   ]
  },
  {
   "cell_type": "code",
   "execution_count": null,
   "id": "c44c479b",
   "metadata": {
    "scrolled": true
   },
   "outputs": [],
   "source": [
    "attack_means = []\n",
    "\n",
    "for i in range((len(train_attack_data))):\n",
    "    print(f'{i+1}/{len(train_attack_data)}')\n",
    "    print('-------------------------------------------------------------------')\n",
    "    attack_means.append(statistics.mean(calc_request_belu_score(train_attack_data[i],0,n)))\n",
    "    \n",
    "    \n",
    "        \n",
    "    "
   ]
  },
  {
   "cell_type": "code",
   "execution_count": null,
   "id": "542a0fc6",
   "metadata": {},
   "outputs": [],
   "source": [
    "plt.hist(means)\n",
    "plt.hist(attack_means)"
   ]
  },
  {
   "cell_type": "raw",
   "id": "bdb83aa4",
   "metadata": {},
   "source": []
  },
  {
   "cell_type": "code",
   "execution_count": null,
   "id": "c671a590",
   "metadata": {},
   "outputs": [],
   "source": []
  }
 ],
 "metadata": {
  "kernelspec": {
   "display_name": "Python 3.9 (tensorflow)",
   "language": "python",
   "name": "tensorflow"
  },
  "language_info": {
   "codemirror_mode": {
    "name": "ipython",
    "version": 3
   },
   "file_extension": ".py",
   "mimetype": "text/x-python",
   "name": "python",
   "nbconvert_exporter": "python",
   "pygments_lexer": "ipython3",
   "version": "3.9.7"
  }
 },
 "nbformat": 4,
 "nbformat_minor": 5
}
