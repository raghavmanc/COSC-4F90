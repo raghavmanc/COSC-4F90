{
 "cells": [
  {
   "cell_type": "code",
   "execution_count": 2,
   "id": "871a5924",
   "metadata": {},
   "outputs": [],
   "source": [
    "import numpy as np \n",
    "import tensorflow as tf\n",
    "from sklearn.utils import shuffle\n",
    "from sklearn.model_selection import train_test_split\n",
    "from tensorflow.keras.models import Sequential\n",
    "from tensorflow.keras.layers import Dense, LSTM, Dropout\n",
    "from itertools import chain\n",
    "from tensorflow.keras.optimizers import Adam\n",
    "from sklearn.preprocessing import MinMaxScaler\n",
    "import matplotlib.pyplot as plt\n",
    "from keras.metrics import categorical_crossentropy\n",
    "import itertools\n",
    "from sklearn.metrics import confusion_matrix"
   ]
  },
  {
   "cell_type": "code",
   "execution_count": 3,
   "id": "239f500a",
   "metadata": {},
   "outputs": [
    {
     "name": "stdout",
     "output_type": "stream",
     "text": [
      "Unizipped Attack File\n"
     ]
    }
   ],
   "source": [
    "# Unzip Attack Folder to retrive subfolfers\n",
    "from zipfile import ZipFile\n",
    "file_name = \"Attack_Data_Master.zip\"\n",
    "\n",
    "with ZipFile(file_name, 'r') as zip:\n",
    "  zip.extractall()\n",
    "  print('Unizipped Attack File')"
   ]
  },
  {
   "cell_type": "code",
   "execution_count": 4,
   "id": "daccdbe6",
   "metadata": {},
   "outputs": [
    {
     "name": "stdout",
     "output_type": "stream",
     "text": [
      "Unizipped Validation File\n"
     ]
    }
   ],
   "source": [
    "# Unzip Validation Folder to retrive subfolfers\n",
    "from zipfile import ZipFile\n",
    "file_name = \"Validation_Data_Master.zip\"\n",
    "\n",
    "with ZipFile(file_name, 'r') as zip:\n",
    "  zip.extractall()\n",
    "  print('Unizipped Validation File')"
   ]
  },
  {
   "cell_type": "code",
   "execution_count": 5,
   "id": "601b621f",
   "metadata": {},
   "outputs": [],
   "source": [
    "from pathlib import Path \n",
    "# list that holds attack vectors\n",
    "train_attack_data = []\n",
    "\n",
    "# Set file path ot the folder for iterations\n",
    "input_dir = Path.cwd() / \"Attack_Data_Master\"\n",
    "# store all the files ending with .txt in a list called files\n",
    "files = list (input_dir.rglob(\"*.txt*\"))\n",
    "# Iterate over all the txt files and append the attack in the list train_attack data\n",
    "for FILE in files:\n",
    "  with open (FILE, 'r') as f:\n",
    "    stringData = (f.read())\n",
    "    string_split_data = stringData.split(\" \")\n",
    "    del (string_split_data[-1])\n",
    "    train_attack_data.append(string_split_data)\n",
    "    \n",
    "\n",
    "for i in range(len(train_attack_data)):\n",
    "  for j in range(len(train_attack_data[i])):\n",
    "    train_attack_data[i][j] = int(train_attack_data[i][j])\n"
   ]
  },
  {
   "cell_type": "code",
   "execution_count": 6,
   "id": "11c0d676",
   "metadata": {},
   "outputs": [],
   "source": [
    "from pathlib import Path \n",
    "# list that holds attack vectors\n",
    "train_validation_data = []\n",
    "\n",
    "# Set file path ot the folder for iterations\n",
    "input_dir = Path.cwd() / \"Validation_Data_Master\"\n",
    "# store all the files ending with .txt in a list called files\n",
    "files = list (input_dir.rglob(\"*.txt*\"))\n",
    "# Iterate over all the txt files and append the attack in the list train_attack data\n",
    "for FILE in files:\n",
    "  with open (FILE, 'r') as f:\n",
    "    stringData = (f.read())\n",
    "    string_split_data = stringData.split(\" \")\n",
    "    del (string_split_data[-1])\n",
    "    train_validation_data.append(string_split_data)\n",
    "    \n",
    "\n",
    "for i in range(len(train_validation_data)):\n",
    "  for j in range(len(train_validation_data[i])):\n",
    "    train_validation_data[i][j] = int(train_validation_data[i][j])"
   ]
  },
  {
   "cell_type": "code",
   "execution_count": 7,
   "id": "21062d7e",
   "metadata": {},
   "outputs": [
    {
     "data": {
      "text/plain": [
       "4372"
      ]
     },
     "execution_count": 7,
     "metadata": {},
     "output_type": "execute_result"
    }
   ],
   "source": [
    "len(train_validation_data)"
   ]
  },
  {
   "cell_type": "code",
   "execution_count": 8,
   "id": "7b6e45b2",
   "metadata": {},
   "outputs": [],
   "source": [
    "# list holding normal training data\n",
    "train_normal_data = [] \n",
    "\n",
    "files = 834 # maximum number of files for training data\n",
    "main = \"UTD-0000\"\n",
    "# iterate over all files\n",
    "for i in range(1,files):\n",
    "  back = str(i)\n",
    "# appending each training vector to the list train_data.\n",
    "  with open (main[:len(main)-len(back)] + back  + \".txt\", 'r') as f:\n",
    "    string_data = (f.read())\n",
    "    string_split_data = string_data.split(\" \")\n",
    "    del (string_split_data[-1])\n",
    "    train_normal_data.append(string_split_data)\n",
    "\n",
    "for i in range(len(train_normal_data)):\n",
    "  for j in range(len(train_normal_data[i])):\n",
    "    train_normal_data[i][j] = int(train_normal_data[i][j])"
   ]
  },
  {
   "cell_type": "code",
   "execution_count": 15,
   "id": "6eac1ea1",
   "metadata": {},
   "outputs": [],
   "source": [
    "# Appending normal and attack vectors to training sample\n",
    "train_samples = []\n",
    "train_labels = []  # 0 stands for normal behaviour, 1 stands for anomolous\n",
    "\n",
    "\n",
    "for i in train_normal_data:\n",
    "  train_samples.append(i)\n",
    "  train_labels.append(0)  \n",
    "  \n",
    "\n",
    "for i in train_attack_data:\n",
    "  train_samples.append(i)\n",
    "  train_labels.append(1)\n"
   ]
  },
  {
   "cell_type": "code",
   "execution_count": 23,
   "id": "b8900087",
   "metadata": {},
   "outputs": [
    {
     "name": "stdout",
     "output_type": "stream",
     "text": [
      "2948\n",
      "75\n"
     ]
    }
   ],
   "source": [
    "maxi = 0;\n",
    "mini = 3000\n",
    "for i in range(len(train_samples)):\n",
    "    if(len(train_samples[i]) > maxi):\n",
    "        maxi = len(train_samples[i])\n",
    "    if(len(train_samples[i]) < mini):\n",
    "        mini = len(train_samples[i])\n",
    "print(maxi)\n",
    "print(mini)"
   ]
  },
  {
   "cell_type": "code",
   "execution_count": 27,
   "id": "d983afaf",
   "metadata": {},
   "outputs": [],
   "source": [
    "alls = []\n",
    "for i in range (len(train_samples)):\n",
    "  for j in range (len(train_samples[i])):\n",
    "       if( train_samples[i][j] not in alls):\n",
    "            alls.append(train_samples[i][j])\n",
    "               "
   ]
  },
  {
   "cell_type": "code",
   "execution_count": null,
   "id": "2c4ade42",
   "metadata": {},
   "outputs": [],
   "source": []
  },
  {
   "cell_type": "code",
   "execution_count": null,
   "id": "1510eef2",
   "metadata": {},
   "outputs": [],
   "source": []
  },
  {
   "cell_type": "code",
   "execution_count": 14,
   "id": "0eefbe7f",
   "metadata": {},
   "outputs": [],
   "source": [
    "# Normalizing Data\n",
    "vocab_size = 340 # Total unique number of system calls\n",
    "for i in range (len(train_samples)):\n",
    "  for j in range (len(train_samples[i])):\n",
    "       train_samples[i][j] /= vocab_size"
   ]
  },
  {
   "cell_type": "code",
   "execution_count": 10,
   "id": "0ee23202",
   "metadata": {},
   "outputs": [],
   "source": [
    "x_train = []\n",
    "y_train = []\n",
    "result = [0,1]\n",
    "#seq_y = tensorflow.keras.utils.to_categorical(result, num_classes = 2)\n",
    "\n",
    "# Accepts a request of variable length, number of sequences to make, and \n",
    "# index according to its behaviour.\n",
    "# This method splits the request in given number of system calls sequences and \n",
    "# tags with its respective label.\n",
    "def split_request(req,n_features,anomaly_switch):\n",
    "  length = len(req)\n",
    "  length = int(length/n_features)\n",
    "  start = 0;\n",
    "  end = n_features;\n",
    "\n",
    "\n",
    "  for i in range(length):\n",
    "    seq_x = req[start:end]\n",
    "    x_train.append(seq_x)\n",
    "    y_train.append(result[anomaly_switch])\n",
    "    \n",
    "    end += n_features;\n",
    "    start += n_features;\n",
    "    "
   ]
  },
  {
   "cell_type": "code",
   "execution_count": 11,
   "id": "404cf321",
   "metadata": {},
   "outputs": [],
   "source": [
    "# Normal Behaviour, -> INDEX [0]\n",
    "# Attack  -> INDEX [1]\n",
    "\n",
    "num_sequences = 15  # Number of sequences to divide the request in.\n",
    "\n",
    "for i in range(len(train_samples)):\n",
    "  if i > 832:\n",
    "    split_request(train_samples[i],num_sequences,1)\n",
    "  else:\n",
    "    split_request(train_samples[i],num_sequences,0)"
   ]
  },
  {
   "cell_type": "code",
   "execution_count": 12,
   "id": "a3d72f0c",
   "metadata": {},
   "outputs": [],
   "source": [
    "# Converting x_train and y_train into np arrays\n",
    "x_train = np.array(x_train)\n",
    "y_train = np.array(y_train)\n",
    "x_train, y_train = shuffle(x_train, y_train)"
   ]
  },
  {
   "cell_type": "code",
   "execution_count": 13,
   "id": "1397564c",
   "metadata": {},
   "outputs": [],
   "source": [
    "# split test data into training and testing sets\n",
    "x_train, x_test,y_train,y_test = train_test_split(x_train,y_train,test_size=0.2,random_state=4)"
   ]
  },
  {
   "cell_type": "code",
   "execution_count": 14,
   "id": "604a4fdc",
   "metadata": {},
   "outputs": [
    {
     "name": "stdout",
     "output_type": "stream",
     "text": [
      "(32796, 15, 1)\n"
     ]
    }
   ],
   "source": [
    "# reshape from [samples, timesteps] into [samples, timesteps, features]\n",
    "n_features = 1\n",
    "x_train = x_train.reshape((x_train.shape[0], x_train.shape[1], n_features))\n",
    "print(x_train.shape)"
   ]
  },
  {
   "cell_type": "code",
   "execution_count": 15,
   "id": "9ad46d0a",
   "metadata": {},
   "outputs": [],
   "source": [
    "model = Sequential()\n",
    "\n",
    "model.add(LSTM(128, input_shape = (x_train.shape[1:]), return_sequences=False))\n",
    "model.add(Dropout(0.2))\n",
    "\n",
    "# model.add(LSTM(128))\n",
    "# model.add(Dropout(0.2))\n",
    "\n",
    "model.add(Dense(2,activation='softmax'))\n",
    "\n",
    "opt = tf.keras.optimizers.Adam(learning_rate= 1e-2,decay=1e-6)"
   ]
  },
  {
   "cell_type": "code",
   "execution_count": 16,
   "id": "90c7bc91",
   "metadata": {},
   "outputs": [],
   "source": [
    "# Compile the Model\n",
    "model.compile(optimizer=opt, loss ='sparse_categorical_crossentropy', metrics= 'accuracy')"
   ]
  },
  {
   "cell_type": "code",
   "execution_count": 17,
   "id": "1e4168e9",
   "metadata": {},
   "outputs": [
    {
     "name": "stdout",
     "output_type": "stream",
     "text": [
      "Epoch 1/200\n",
      "164/164 [==============================] - 4s 6ms/step - loss: 0.6155 - accuracy: 0.6767\n",
      "Epoch 2/200\n",
      "164/164 [==============================] - 1s 6ms/step - loss: 0.6042 - accuracy: 0.6801\n",
      "Epoch 3/200\n",
      "164/164 [==============================] - 1s 6ms/step - loss: 0.5837 - accuracy: 0.6917\n",
      "Epoch 4/200\n",
      "164/164 [==============================] - 1s 6ms/step - loss: 0.4752 - accuracy: 0.7924\n",
      "Epoch 5/200\n",
      "164/164 [==============================] - 1s 7ms/step - loss: 0.4303 - accuracy: 0.8198\n",
      "Epoch 6/200\n",
      "164/164 [==============================] - 1s 7ms/step - loss: 0.4215 - accuracy: 0.8208\n",
      "Epoch 7/200\n",
      "164/164 [==============================] - 1s 6ms/step - loss: 0.4060 - accuracy: 0.8272\n",
      "Epoch 8/200\n",
      "164/164 [==============================] - 1s 6ms/step - loss: 0.3895 - accuracy: 0.8329\n",
      "Epoch 9/200\n",
      "164/164 [==============================] - 1s 6ms/step - loss: 0.3787 - accuracy: 0.8367\n",
      "Epoch 10/200\n",
      "164/164 [==============================] - 1s 6ms/step - loss: 0.3681 - accuracy: 0.8414\n",
      "Epoch 11/200\n",
      "164/164 [==============================] - 1s 6ms/step - loss: 0.3445 - accuracy: 0.8521\n",
      "Epoch 12/200\n",
      "164/164 [==============================] - 1s 6ms/step - loss: 0.3300 - accuracy: 0.8598\n",
      "Epoch 13/200\n",
      "164/164 [==============================] - 1s 6ms/step - loss: 0.3233 - accuracy: 0.8650\n",
      "Epoch 14/200\n",
      "164/164 [==============================] - 1s 7ms/step - loss: 0.3083 - accuracy: 0.8692\n",
      "Epoch 15/200\n",
      "164/164 [==============================] - 1s 6ms/step - loss: 0.2955 - accuracy: 0.8747\n",
      "Epoch 16/200\n",
      "164/164 [==============================] - 1s 6ms/step - loss: 0.2845 - accuracy: 0.8788\n",
      "Epoch 17/200\n",
      "164/164 [==============================] - 1s 6ms/step - loss: 0.2754 - accuracy: 0.8829\n",
      "Epoch 18/200\n",
      "164/164 [==============================] - 1s 6ms/step - loss: 0.2705 - accuracy: 0.8839\n",
      "Epoch 19/200\n",
      "164/164 [==============================] - 1s 6ms/step - loss: 0.2587 - accuracy: 0.8902\n",
      "Epoch 20/200\n",
      "164/164 [==============================] - 1s 6ms/step - loss: 0.2571 - accuracy: 0.8905\n",
      "Epoch 21/200\n",
      "164/164 [==============================] - 1s 6ms/step - loss: 0.2410 - accuracy: 0.8983\n",
      "Epoch 22/200\n",
      "164/164 [==============================] - 1s 8ms/step - loss: 0.2345 - accuracy: 0.8985\n",
      "Epoch 23/200\n",
      "164/164 [==============================] - 1s 6ms/step - loss: 0.2269 - accuracy: 0.9053\n",
      "Epoch 24/200\n",
      "164/164 [==============================] - 1s 6ms/step - loss: 0.2228 - accuracy: 0.9068\n",
      "Epoch 25/200\n",
      "164/164 [==============================] - 1s 6ms/step - loss: 0.2094 - accuracy: 0.9117\n",
      "Epoch 26/200\n",
      "164/164 [==============================] - 1s 6ms/step - loss: 0.2072 - accuracy: 0.9138\n",
      "Epoch 27/200\n",
      "164/164 [==============================] - 1s 6ms/step - loss: 0.2076 - accuracy: 0.9118\n",
      "Epoch 28/200\n",
      "164/164 [==============================] - 1s 6ms/step - loss: 0.2007 - accuracy: 0.9178\n",
      "Epoch 29/200\n",
      "164/164 [==============================] - 1s 6ms/step - loss: 0.1894 - accuracy: 0.9211\n",
      "Epoch 30/200\n",
      "164/164 [==============================] - 1s 6ms/step - loss: 0.1838 - accuracy: 0.9244\n",
      "Epoch 31/200\n",
      "164/164 [==============================] - 1s 6ms/step - loss: 0.1771 - accuracy: 0.9283\n",
      "Epoch 32/200\n",
      "164/164 [==============================] - 1s 6ms/step - loss: 0.1809 - accuracy: 0.9254\n",
      "Epoch 33/200\n",
      "164/164 [==============================] - 1s 6ms/step - loss: 0.1712 - accuracy: 0.9295\n",
      "Epoch 34/200\n",
      "164/164 [==============================] - 1s 6ms/step - loss: 0.1668 - accuracy: 0.9328\n",
      "Epoch 35/200\n",
      "164/164 [==============================] - 1s 7ms/step - loss: 0.1660 - accuracy: 0.9315\n",
      "Epoch 36/200\n",
      "164/164 [==============================] - 1s 8ms/step - loss: 0.1638 - accuracy: 0.9328\n",
      "Epoch 37/200\n",
      "164/164 [==============================] - 1s 7ms/step - loss: 0.1494 - accuracy: 0.9393\n",
      "Epoch 38/200\n",
      "164/164 [==============================] - 1s 6ms/step - loss: 0.1473 - accuracy: 0.9408\n",
      "Epoch 39/200\n",
      "164/164 [==============================] - 1s 6ms/step - loss: 0.1436 - accuracy: 0.9430\n",
      "Epoch 40/200\n",
      "164/164 [==============================] - 1s 6ms/step - loss: 0.1506 - accuracy: 0.9391\n",
      "Epoch 41/200\n",
      "164/164 [==============================] - 1s 6ms/step - loss: 0.1359 - accuracy: 0.9455\n",
      "Epoch 42/200\n",
      "164/164 [==============================] - 1s 7ms/step - loss: 0.1396 - accuracy: 0.9434\n",
      "Epoch 43/200\n",
      "164/164 [==============================] - 1s 6ms/step - loss: 0.1412 - accuracy: 0.9426\n",
      "Epoch 44/200\n",
      "164/164 [==============================] - 1s 7ms/step - loss: 0.1365 - accuracy: 0.9460\n",
      "Epoch 45/200\n",
      "164/164 [==============================] - 1s 7ms/step - loss: 0.1285 - accuracy: 0.9491\n",
      "Epoch 46/200\n",
      "164/164 [==============================] - 1s 6ms/step - loss: 0.1264 - accuracy: 0.9490\n",
      "Epoch 47/200\n",
      "164/164 [==============================] - 1s 6ms/step - loss: 0.1210 - accuracy: 0.9527\n",
      "Epoch 48/200\n",
      "164/164 [==============================] - 1s 6ms/step - loss: 0.1208 - accuracy: 0.9529\n",
      "Epoch 49/200\n",
      "164/164 [==============================] - 1s 6ms/step - loss: 0.1187 - accuracy: 0.9541\n",
      "Epoch 50/200\n",
      "164/164 [==============================] - 1s 6ms/step - loss: 0.1152 - accuracy: 0.9547\n",
      "Epoch 51/200\n",
      "164/164 [==============================] - 1s 6ms/step - loss: 0.1119 - accuracy: 0.9562\n",
      "Epoch 52/200\n",
      "164/164 [==============================] - 1s 6ms/step - loss: 0.1138 - accuracy: 0.9562\n",
      "Epoch 53/200\n",
      "164/164 [==============================] - 1s 6ms/step - loss: 0.1092 - accuracy: 0.9572\n",
      "Epoch 54/200\n",
      "164/164 [==============================] - 1s 6ms/step - loss: 0.1089 - accuracy: 0.9581\n",
      "Epoch 55/200\n",
      "164/164 [==============================] - 1s 6ms/step - loss: 0.0963 - accuracy: 0.9627\n",
      "Epoch 56/200\n",
      "164/164 [==============================] - 1s 6ms/step - loss: 0.1088 - accuracy: 0.9583\n",
      "Epoch 57/200\n",
      "164/164 [==============================] - 1s 6ms/step - loss: 0.1124 - accuracy: 0.9568\n",
      "Epoch 58/200\n",
      "164/164 [==============================] - 1s 6ms/step - loss: 0.1015 - accuracy: 0.9619\n",
      "Epoch 59/200\n",
      "164/164 [==============================] - 1s 6ms/step - loss: 0.0988 - accuracy: 0.9618\n",
      "Epoch 60/200\n",
      "164/164 [==============================] - 1s 7ms/step - loss: 0.1041 - accuracy: 0.9587\n",
      "Epoch 61/200\n",
      "164/164 [==============================] - 1s 6ms/step - loss: 0.1115 - accuracy: 0.9580\n",
      "Epoch 62/200\n",
      "164/164 [==============================] - 1s 6ms/step - loss: 0.0938 - accuracy: 0.9635\n",
      "Epoch 63/200\n",
      "164/164 [==============================] - 1s 6ms/step - loss: 0.0964 - accuracy: 0.9631\n",
      "Epoch 64/200\n",
      "164/164 [==============================] - 1s 6ms/step - loss: 0.1049 - accuracy: 0.9601\n",
      "Epoch 65/200\n",
      "164/164 [==============================] - 1s 6ms/step - loss: 0.0932 - accuracy: 0.9642\n",
      "Epoch 66/200\n",
      "164/164 [==============================] - 1s 6ms/step - loss: 0.0926 - accuracy: 0.9652\n",
      "Epoch 67/200\n",
      "164/164 [==============================] - 1s 6ms/step - loss: 0.0920 - accuracy: 0.9645\n",
      "Epoch 68/200\n",
      "164/164 [==============================] - 1s 6ms/step - loss: 0.0890 - accuracy: 0.9658\n",
      "Epoch 69/200\n",
      "164/164 [==============================] - 1s 6ms/step - loss: 0.0991 - accuracy: 0.9618\n",
      "Epoch 70/200\n",
      "164/164 [==============================] - 1s 6ms/step - loss: 0.0926 - accuracy: 0.9641\n",
      "Epoch 71/200\n",
      "164/164 [==============================] - 1s 6ms/step - loss: 0.0846 - accuracy: 0.9683\n",
      "Epoch 72/200\n",
      "164/164 [==============================] - 1s 6ms/step - loss: 0.0843 - accuracy: 0.9671\n",
      "Epoch 73/200\n",
      "164/164 [==============================] - 1s 6ms/step - loss: 0.0922 - accuracy: 0.9653\n",
      "Epoch 74/200\n",
      "164/164 [==============================] - 1s 6ms/step - loss: 0.0835 - accuracy: 0.9680\n",
      "Epoch 75/200\n",
      "164/164 [==============================] - 1s 6ms/step - loss: 0.0833 - accuracy: 0.9679\n",
      "Epoch 76/200\n",
      "164/164 [==============================] - 1s 6ms/step - loss: 0.0942 - accuracy: 0.9629\n",
      "Epoch 77/200\n",
      "164/164 [==============================] - 1s 6ms/step - loss: 0.0880 - accuracy: 0.9664\n",
      "Epoch 78/200\n",
      "164/164 [==============================] - 1s 6ms/step - loss: 0.0930 - accuracy: 0.9644\n",
      "Epoch 79/200\n",
      "164/164 [==============================] - 1s 6ms/step - loss: 0.0852 - accuracy: 0.9671\n",
      "Epoch 80/200\n",
      "164/164 [==============================] - 1s 6ms/step - loss: 0.0857 - accuracy: 0.9667\n",
      "Epoch 81/200\n",
      "164/164 [==============================] - 1s 6ms/step - loss: 0.0868 - accuracy: 0.9675\n",
      "Epoch 82/200\n",
      "164/164 [==============================] - 1s 6ms/step - loss: 0.0840 - accuracy: 0.9675\n",
      "Epoch 83/200\n",
      "164/164 [==============================] - 1s 6ms/step - loss: 0.0808 - accuracy: 0.9693\n",
      "Epoch 84/200\n",
      "164/164 [==============================] - 1s 6ms/step - loss: 0.0780 - accuracy: 0.9704\n",
      "Epoch 85/200\n",
      "164/164 [==============================] - 1s 6ms/step - loss: 0.0722 - accuracy: 0.9726\n",
      "Epoch 86/200\n",
      "164/164 [==============================] - 1s 6ms/step - loss: 0.0780 - accuracy: 0.9701\n",
      "Epoch 87/200\n",
      "164/164 [==============================] - 1s 6ms/step - loss: 0.0740 - accuracy: 0.9720\n",
      "Epoch 88/200\n",
      "164/164 [==============================] - 1s 6ms/step - loss: 0.0872 - accuracy: 0.9662\n",
      "Epoch 89/200\n",
      "164/164 [==============================] - 1s 6ms/step - loss: 0.0818 - accuracy: 0.9690\n",
      "Epoch 90/200\n",
      "164/164 [==============================] - 1s 6ms/step - loss: 0.0739 - accuracy: 0.9720\n",
      "Epoch 91/200\n",
      "164/164 [==============================] - 1s 6ms/step - loss: 0.0797 - accuracy: 0.9692\n",
      "Epoch 92/200\n",
      "164/164 [==============================] - 1s 6ms/step - loss: 0.0844 - accuracy: 0.9681\n",
      "Epoch 93/200\n",
      "164/164 [==============================] - 1s 6ms/step - loss: 0.0762 - accuracy: 0.9715\n",
      "Epoch 94/200\n",
      "164/164 [==============================] - 1s 6ms/step - loss: 0.0674 - accuracy: 0.9740\n",
      "Epoch 95/200\n",
      "164/164 [==============================] - 1s 6ms/step - loss: 0.0802 - accuracy: 0.9700\n",
      "Epoch 96/200\n",
      "164/164 [==============================] - 1s 6ms/step - loss: 0.0859 - accuracy: 0.9687\n",
      "Epoch 97/200\n",
      "164/164 [==============================] - 1s 6ms/step - loss: 0.0846 - accuracy: 0.9679\n",
      "Epoch 98/200\n",
      "164/164 [==============================] - 1s 6ms/step - loss: 0.0743 - accuracy: 0.9725\n",
      "Epoch 99/200\n",
      "164/164 [==============================] - 1s 6ms/step - loss: 0.0845 - accuracy: 0.9683\n",
      "Epoch 100/200\n",
      "164/164 [==============================] - 1s 6ms/step - loss: 0.0726 - accuracy: 0.9717\n",
      "Epoch 101/200\n",
      "164/164 [==============================] - 1s 6ms/step - loss: 0.0739 - accuracy: 0.9721\n",
      "Epoch 102/200\n",
      "164/164 [==============================] - 1s 6ms/step - loss: 0.0673 - accuracy: 0.9746\n",
      "Epoch 103/200\n",
      "164/164 [==============================] - 1s 6ms/step - loss: 0.0734 - accuracy: 0.9733\n",
      "Epoch 104/200\n",
      "164/164 [==============================] - 1s 6ms/step - loss: 0.0741 - accuracy: 0.9725\n",
      "Epoch 105/200\n",
      "164/164 [==============================] - 1s 6ms/step - loss: 0.0715 - accuracy: 0.9726\n",
      "Epoch 106/200\n",
      "164/164 [==============================] - 1s 6ms/step - loss: 0.0716 - accuracy: 0.9722\n",
      "Epoch 107/200\n",
      "164/164 [==============================] - 1s 6ms/step - loss: 0.0822 - accuracy: 0.9700\n",
      "Epoch 108/200\n",
      "164/164 [==============================] - 1s 6ms/step - loss: 0.0690 - accuracy: 0.9736\n",
      "Epoch 109/200\n",
      "164/164 [==============================] - 1s 6ms/step - loss: 0.0709 - accuracy: 0.9742\n",
      "Epoch 110/200\n",
      "164/164 [==============================] - 1s 6ms/step - loss: 0.0644 - accuracy: 0.9753\n",
      "Epoch 111/200\n",
      "164/164 [==============================] - 1s 6ms/step - loss: 0.0659 - accuracy: 0.9752\n",
      "Epoch 112/200\n",
      "164/164 [==============================] - 1s 6ms/step - loss: 0.0696 - accuracy: 0.9741\n",
      "Epoch 113/200\n",
      "164/164 [==============================] - 1s 6ms/step - loss: 0.0750 - accuracy: 0.9722\n",
      "Epoch 114/200\n",
      "164/164 [==============================] - 1s 6ms/step - loss: 0.0790 - accuracy: 0.9701\n",
      "Epoch 115/200\n",
      "164/164 [==============================] - 1s 6ms/step - loss: 0.0722 - accuracy: 0.9732\n",
      "Epoch 116/200\n",
      "164/164 [==============================] - 1s 6ms/step - loss: 0.0677 - accuracy: 0.9747\n",
      "Epoch 117/200\n",
      "164/164 [==============================] - 1s 6ms/step - loss: 0.0650 - accuracy: 0.9759\n",
      "Epoch 118/200\n",
      "164/164 [==============================] - 1s 6ms/step - loss: 0.0794 - accuracy: 0.9705\n",
      "Epoch 119/200\n",
      "164/164 [==============================] - 1s 6ms/step - loss: 0.0841 - accuracy: 0.9685\n",
      "Epoch 120/200\n",
      "164/164 [==============================] - 1s 6ms/step - loss: 0.0729 - accuracy: 0.9722\n",
      "Epoch 121/200\n",
      "164/164 [==============================] - 1s 6ms/step - loss: 0.0640 - accuracy: 0.9759\n",
      "Epoch 122/200\n",
      "164/164 [==============================] - 1s 7ms/step - loss: 0.0668 - accuracy: 0.9746\n",
      "Epoch 123/200\n",
      "164/164 [==============================] - 1s 6ms/step - loss: 0.0664 - accuracy: 0.9750\n",
      "Epoch 124/200\n",
      "164/164 [==============================] - 1s 6ms/step - loss: 0.0716 - accuracy: 0.9728\n",
      "Epoch 125/200\n",
      "164/164 [==============================] - 1s 6ms/step - loss: 0.0803 - accuracy: 0.9704\n",
      "Epoch 126/200\n",
      "164/164 [==============================] - 1s 6ms/step - loss: 0.0703 - accuracy: 0.9734\n",
      "Epoch 127/200\n",
      "164/164 [==============================] - 1s 7ms/step - loss: 0.0603 - accuracy: 0.9768\n",
      "Epoch 128/200\n",
      "164/164 [==============================] - 1s 6ms/step - loss: 0.0634 - accuracy: 0.9756\n",
      "Epoch 129/200\n",
      "164/164 [==============================] - 1s 6ms/step - loss: 0.0677 - accuracy: 0.9746\n",
      "Epoch 130/200\n",
      "164/164 [==============================] - 1s 6ms/step - loss: 0.0578 - accuracy: 0.9781\n",
      "Epoch 131/200\n",
      "164/164 [==============================] - 1s 6ms/step - loss: 0.0685 - accuracy: 0.9740\n",
      "Epoch 132/200\n",
      "164/164 [==============================] - 1s 6ms/step - loss: 0.0678 - accuracy: 0.9748\n",
      "Epoch 133/200\n",
      "164/164 [==============================] - 1s 6ms/step - loss: 0.0624 - accuracy: 0.9766\n",
      "Epoch 134/200\n",
      "164/164 [==============================] - 1s 6ms/step - loss: 0.0633 - accuracy: 0.9763\n",
      "Epoch 135/200\n",
      "164/164 [==============================] - 1s 6ms/step - loss: 0.0719 - accuracy: 0.9734\n",
      "Epoch 136/200\n",
      "164/164 [==============================] - 1s 6ms/step - loss: 0.0739 - accuracy: 0.9715\n",
      "Epoch 137/200\n",
      "164/164 [==============================] - 1s 5ms/step - loss: 0.0732 - accuracy: 0.9724\n",
      "Epoch 138/200\n",
      "164/164 [==============================] - 1s 5ms/step - loss: 0.0643 - accuracy: 0.9759\n",
      "Epoch 139/200\n",
      "164/164 [==============================] - 1s 5ms/step - loss: 0.0619 - accuracy: 0.9764\n",
      "Epoch 140/200\n",
      "164/164 [==============================] - 1s 5ms/step - loss: 0.0589 - accuracy: 0.9767\n",
      "Epoch 141/200\n",
      "164/164 [==============================] - 1s 5ms/step - loss: 0.0701 - accuracy: 0.9733\n",
      "Epoch 142/200\n",
      "164/164 [==============================] - 1s 6ms/step - loss: 0.0659 - accuracy: 0.9750\n",
      "Epoch 143/200\n",
      "164/164 [==============================] - 1s 6ms/step - loss: 0.0554 - accuracy: 0.9790\n",
      "Epoch 144/200\n",
      "164/164 [==============================] - 1s 6ms/step - loss: 0.0522 - accuracy: 0.9801\n",
      "Epoch 145/200\n",
      "164/164 [==============================] - 1s 6ms/step - loss: 0.0548 - accuracy: 0.9796\n",
      "Epoch 146/200\n",
      "164/164 [==============================] - 1s 6ms/step - loss: 0.0626 - accuracy: 0.9763\n",
      "Epoch 147/200\n",
      "164/164 [==============================] - 1s 6ms/step - loss: 0.0603 - accuracy: 0.9775\n",
      "Epoch 148/200\n",
      "164/164 [==============================] - 1s 6ms/step - loss: 0.0588 - accuracy: 0.9781\n",
      "Epoch 149/200\n",
      "164/164 [==============================] - 1s 6ms/step - loss: 0.0705 - accuracy: 0.9744\n",
      "Epoch 150/200\n",
      "164/164 [==============================] - 1s 6ms/step - loss: 0.0687 - accuracy: 0.9750\n",
      "Epoch 151/200\n",
      "164/164 [==============================] - 1s 6ms/step - loss: 0.0612 - accuracy: 0.9771\n",
      "Epoch 152/200\n",
      "164/164 [==============================] - 1s 6ms/step - loss: 0.0634 - accuracy: 0.9760\n",
      "Epoch 153/200\n",
      "164/164 [==============================] - 1s 6ms/step - loss: 0.0639 - accuracy: 0.9765\n",
      "Epoch 154/200\n",
      "164/164 [==============================] - 1s 6ms/step - loss: 0.0717 - accuracy: 0.9726\n",
      "Epoch 155/200\n",
      "164/164 [==============================] - 1s 6ms/step - loss: 0.0804 - accuracy: 0.9698\n",
      "Epoch 156/200\n",
      "164/164 [==============================] - 1s 6ms/step - loss: 0.0622 - accuracy: 0.9767\n",
      "Epoch 157/200\n",
      "164/164 [==============================] - 1s 6ms/step - loss: 0.0566 - accuracy: 0.9788\n",
      "Epoch 158/200\n",
      "164/164 [==============================] - 1s 6ms/step - loss: 0.0506 - accuracy: 0.9816\n",
      "Epoch 159/200\n",
      "164/164 [==============================] - 1s 6ms/step - loss: 0.0626 - accuracy: 0.9767\n",
      "Epoch 160/200\n"
     ]
    },
    {
     "name": "stdout",
     "output_type": "stream",
     "text": [
      "164/164 [==============================] - 1s 6ms/step - loss: 0.0663 - accuracy: 0.9756\n",
      "Epoch 161/200\n",
      "164/164 [==============================] - 1s 6ms/step - loss: 0.0619 - accuracy: 0.9771\n",
      "Epoch 162/200\n",
      "164/164 [==============================] - 1s 6ms/step - loss: 0.0651 - accuracy: 0.9750\n",
      "Epoch 163/200\n",
      "164/164 [==============================] - 1s 6ms/step - loss: 0.0646 - accuracy: 0.9762\n",
      "Epoch 164/200\n",
      "164/164 [==============================] - 1s 6ms/step - loss: 0.0671 - accuracy: 0.9748\n",
      "Epoch 165/200\n",
      "164/164 [==============================] - 1s 6ms/step - loss: 0.0616 - accuracy: 0.9771\n",
      "Epoch 166/200\n",
      "164/164 [==============================] - 1s 6ms/step - loss: 0.0627 - accuracy: 0.9762\n",
      "Epoch 167/200\n",
      "164/164 [==============================] - 1s 6ms/step - loss: 0.0636 - accuracy: 0.9763\n",
      "Epoch 168/200\n",
      "164/164 [==============================] - 1s 6ms/step - loss: 0.0615 - accuracy: 0.9766\n",
      "Epoch 169/200\n",
      "164/164 [==============================] - 1s 6ms/step - loss: 0.0519 - accuracy: 0.9808\n",
      "Epoch 170/200\n",
      "164/164 [==============================] - 1s 6ms/step - loss: 0.0550 - accuracy: 0.9786\n",
      "Epoch 171/200\n",
      "164/164 [==============================] - 1s 6ms/step - loss: 0.0584 - accuracy: 0.9780\n",
      "Epoch 172/200\n",
      "164/164 [==============================] - 1s 6ms/step - loss: 0.0703 - accuracy: 0.9739\n",
      "Epoch 173/200\n",
      "164/164 [==============================] - 1s 6ms/step - loss: 0.0672 - accuracy: 0.9746\n",
      "Epoch 174/200\n",
      "164/164 [==============================] - 1s 6ms/step - loss: 0.0701 - accuracy: 0.9737\n",
      "Epoch 175/200\n",
      "164/164 [==============================] - 1s 6ms/step - loss: 0.0542 - accuracy: 0.9798\n",
      "Epoch 176/200\n",
      "164/164 [==============================] - 1s 6ms/step - loss: 0.0532 - accuracy: 0.9797\n",
      "Epoch 177/200\n",
      "164/164 [==============================] - 1s 6ms/step - loss: 0.0646 - accuracy: 0.9762\n",
      "Epoch 178/200\n",
      "164/164 [==============================] - 1s 6ms/step - loss: 0.0654 - accuracy: 0.9759\n",
      "Epoch 179/200\n",
      "164/164 [==============================] - 1s 6ms/step - loss: 0.0523 - accuracy: 0.9798\n",
      "Epoch 180/200\n",
      "164/164 [==============================] - 1s 6ms/step - loss: 0.0611 - accuracy: 0.9777\n",
      "Epoch 181/200\n",
      "164/164 [==============================] - 1s 6ms/step - loss: 0.0632 - accuracy: 0.9762\n",
      "Epoch 182/200\n",
      "164/164 [==============================] - 1s 6ms/step - loss: 0.0545 - accuracy: 0.9788\n",
      "Epoch 183/200\n",
      "164/164 [==============================] - 1s 6ms/step - loss: 0.0536 - accuracy: 0.9794\n",
      "Epoch 184/200\n",
      "164/164 [==============================] - 1s 6ms/step - loss: 0.0534 - accuracy: 0.9801\n",
      "Epoch 185/200\n",
      "164/164 [==============================] - 1s 6ms/step - loss: 0.0601 - accuracy: 0.9779\n",
      "Epoch 186/200\n",
      "164/164 [==============================] - 1s 6ms/step - loss: 0.0836 - accuracy: 0.9695\n",
      "Epoch 187/200\n",
      "164/164 [==============================] - 1s 6ms/step - loss: 0.0613 - accuracy: 0.9770\n",
      "Epoch 188/200\n",
      "164/164 [==============================] - 1s 6ms/step - loss: 0.0613 - accuracy: 0.9780\n",
      "Epoch 189/200\n",
      "164/164 [==============================] - 1s 6ms/step - loss: 0.0649 - accuracy: 0.9756\n",
      "Epoch 190/200\n",
      "164/164 [==============================] - 1s 6ms/step - loss: 0.0571 - accuracy: 0.9783\n",
      "Epoch 191/200\n",
      "164/164 [==============================] - 1s 6ms/step - loss: 0.0505 - accuracy: 0.9810\n",
      "Epoch 192/200\n",
      "164/164 [==============================] - 1s 6ms/step - loss: 0.0601 - accuracy: 0.9775\n",
      "Epoch 193/200\n",
      "164/164 [==============================] - 1s 6ms/step - loss: 0.0578 - accuracy: 0.9779\n",
      "Epoch 194/200\n",
      "164/164 [==============================] - 1s 6ms/step - loss: 0.0637 - accuracy: 0.9766\n",
      "Epoch 195/200\n",
      "164/164 [==============================] - 1s 6ms/step - loss: 0.0566 - accuracy: 0.9793\n",
      "Epoch 196/200\n",
      "164/164 [==============================] - 1s 6ms/step - loss: 0.0512 - accuracy: 0.9807\n",
      "Epoch 197/200\n",
      "164/164 [==============================] - 1s 6ms/step - loss: 0.1031 - accuracy: 0.9625\n",
      "Epoch 198/200\n",
      "164/164 [==============================] - 1s 6ms/step - loss: 0.0686 - accuracy: 0.9747\n",
      "Epoch 199/200\n",
      "164/164 [==============================] - 1s 6ms/step - loss: 0.0536 - accuracy: 0.9796\n",
      "Epoch 200/200\n",
      "164/164 [==============================] - 1s 6ms/step - loss: 0.0590 - accuracy: 0.9776\n"
     ]
    }
   ],
   "source": [
    "history = model.fit(x_train,y_train, batch_size = 200, epochs=200)"
   ]
  },
  {
   "cell_type": "code",
   "execution_count": 18,
   "id": "c5643118",
   "metadata": {},
   "outputs": [
    {
     "name": "stdout",
     "output_type": "stream",
     "text": [
      "65/65 [==============================] - 1s 3ms/step - loss: 0.5083 - accuracy: 0.8898\n"
     ]
    },
    {
     "data": {
      "text/plain": [
       "['loss', 'accuracy']"
      ]
     },
     "execution_count": 18,
     "metadata": {},
     "output_type": "execute_result"
    }
   ],
   "source": [
    "# Loss and Accuracy\n",
    "score = model.evaluate(x_test,y_test, batch_size=128,)\n",
    "model.metrics_names"
   ]
  },
  {
   "cell_type": "code",
   "execution_count": 19,
   "id": "a11f21e7",
   "metadata": {},
   "outputs": [
    {
     "data": {
      "image/png": "[encoded data removed]",
      "text/plain": [
       "<Figure size 432x288 with 1 Axes>"
      ]
     },
     "metadata": {
      "needs_background": "light"
     },
     "output_type": "display_data"
    }
   ],
   "source": [
    "# Graph of the loss function \n",
    "plt.plot(history.history['loss'])\n",
    "plt.show()"
   ]
  },
  {
   "cell_type": "code",
   "execution_count": 20,
   "id": "6a2d96c5",
   "metadata": {},
   "outputs": [],
   "source": [
    "# Predictions of the model on the test data\n",
    "predictions = model.predict(x_test, batch_size = 128,verbose= 0)\n",
    "rounded_predictions = np.argmax(predictions,axis=-1)"
   ]
  },
  {
   "cell_type": "code",
   "execution_count": 21,
   "id": "f044f336",
   "metadata": {},
   "outputs": [],
   "source": [
    "# Confusion Matrix\n",
    "cm = confusion_matrix(y_true = y_test, y_pred = rounded_predictions)"
   ]
  },
  {
   "cell_type": "code",
   "execution_count": 22,
   "id": "01033d4c",
   "metadata": {},
   "outputs": [],
   "source": [
    "def plot_confusion_matrix(cm, classes, normalize= False, title = \"Confusion Matrix\", cmap=plt.cm.Blues):\n",
    "  plt.imshow(cm,interpolation='nearest', cmap = cmap)\n",
    "  plt.title(title)\n",
    "  plt.colorbar()\n",
    "  tick_marks = np.arange(len(classes))\n",
    "  plt.xticks(tick_marks, classes, rotation=45)\n",
    "  plt.yticks(tick_marks, classes)\n",
    "\n",
    "  if normalize:\n",
    "    cm = cm.astype('float') / cm.sum(axis=1)[:, np.newaxis]\n",
    "    print(\"Normalized confusion matrix\")\n",
    "  else:\n",
    "      print(\"Confusion Matrix, without normalization\")\n",
    "  \n",
    "  print(cm)\n",
    "\n",
    "  thresh = cm.max() / 2\n",
    "  for i,j in itertools.product(range(cm.shape[0]),range(cm.shape[1])):\n",
    "    plt.text(j,i,cm[i,j],\n",
    "      horizontalalignment = 'center',\n",
    "      color = 'white' if cm[i,j] > thresh else 'black')\n",
    "    \n",
    "\n",
    "  plt.tight_layout()\n",
    "  plt.ylabel(\"True Label\")\n",
    "  plt.xlabel(\"Predicted Label\")"
   ]
  },
  {
   "cell_type": "code",
   "execution_count": 23,
   "id": "46ce67bb",
   "metadata": {},
   "outputs": [
    {
     "name": "stdout",
     "output_type": "stream",
     "text": [
      "Confusion Matrix, without normalization\n",
      "[[3682  327]\n",
      " [ 577 3614]]\n"
     ]
    },
    {
     "data": {
      "image/png": "[encoded data removed]",
      "text/plain": [
       "<Figure size 432x288 with 2 Axes>"
      ]
     },
     "metadata": {
      "needs_background": "light"
     },
     "output_type": "display_data"
    }
   ],
   "source": [
    "cm_plot_labels = ['Attack_sys_call', 'Normal_sys_call']\n",
    "plot_confusion_matrix(cm = cm, classes = cm_plot_labels, title = 'Confusion Matrix')"
   ]
  },
  {
   "cell_type": "code",
   "execution_count": 24,
   "id": "74241257",
   "metadata": {},
   "outputs": [],
   "source": [
    "###############################################################################################################"
   ]
  },
  {
   "cell_type": "code",
   "execution_count": 25,
   "id": "ca4210f5",
   "metadata": {},
   "outputs": [],
   "source": [
    "x_validate = []\n",
    "\n",
    "# Accepts a request of variable length, number of sequences.\n",
    "# This method splits the request in given number of system calls sequences \n",
    "def split_validation_request(req,n_features):\n",
    "  length = len(req)\n",
    "  length = int(length/n_features)\n",
    "  start = 0;\n",
    "  end = n_features;\n",
    "\n",
    "\n",
    "  for i in range(length):\n",
    "    seq_x = req[start:end]\n",
    "    x_validate.append(seq_x)\n",
    "    end += n_features;\n",
    "    start = end - n_features;"
   ]
  },
  {
   "cell_type": "code",
   "execution_count": 26,
   "id": "0a3deb69",
   "metadata": {},
   "outputs": [],
   "source": [
    "# Normalizing Validation Data\n",
    "for i in range (len(train_validation_data)):\n",
    "  for j in range (len(train_validation_data[i])):\n",
    "       train_validation_data[i][j] /= vocab_size"
   ]
  },
  {
   "cell_type": "code",
   "execution_count": 27,
   "id": "400450ad",
   "metadata": {},
   "outputs": [],
   "source": [
    "for i in range(len(train_validation_data)):\n",
    "    split_validation_request(train_validation_data[i],num_sequences)"
   ]
  },
  {
   "cell_type": "code",
   "execution_count": 28,
   "id": "47d77c9c",
   "metadata": {},
   "outputs": [],
   "source": [
    "v_predictions = model.predict(x_validate, batch_size = 128,verbose= 0)\n",
    "rounded_v_predictions = np.argmax(v_predictions,axis=-1)"
   ]
  },
  {
   "cell_type": "code",
   "execution_count": 29,
   "id": "7456e461",
   "metadata": {},
   "outputs": [],
   "source": [
    "# open the file using open() function\n",
    "file = open(\"predictions.txt\", 'w')\n",
    "correct = 0\n",
    "incorrect = 0\n",
    "   \n",
    "for i in range(len(rounded_v_predictions)):\n",
    "    if(rounded_v_predictions[i] == 1):\n",
    "        incorrect+=1\n",
    "    else:\n",
    "        correct+=1\n",
    "    file.write(str(rounded_v_predictions[i])) \n",
    "    file.write(\" \")\n",
    "# closing the file\n",
    "file.close()\n",
    " "
   ]
  },
  {
   "cell_type": "code",
   "execution_count": 30,
   "id": "71d6f491",
   "metadata": {},
   "outputs": [
    {
     "name": "stdout",
     "output_type": "stream",
     "text": [
      "0.18078673578705934\n"
     ]
    }
   ],
   "source": [
    "print(incorrect/(correct+incorrect))"
   ]
  },
  {
   "cell_type": "code",
   "execution_count": null,
   "id": "c21473ff",
   "metadata": {},
   "outputs": [],
   "source": []
  }
 ],
 "metadata": {
  "kernelspec": {
   "display_name": "Python 3.9 (tensorflow)",
   "language": "python",
   "name": "tensorflow"
  },
  "language_info": {
   "codemirror_mode": {
    "name": "ipython",
    "version": 3
   },
   "file_extension": ".py",
   "mimetype": "text/x-python",
   "name": "python",
   "nbconvert_exporter": "python",
   "pygments_lexer": "ipython3",
   "version": "3.9.7"
  }
 },
 "nbformat": 4,
 "nbformat_minor": 5
}
