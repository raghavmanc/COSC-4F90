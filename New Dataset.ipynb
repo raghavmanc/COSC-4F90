{
 "cells": [
  {
   "cell_type": "code",
   "execution_count": 71,
   "id": "5c144527",
   "metadata": {},
   "outputs": [],
   "source": [
    "import pandas as pd\n",
    "from numpy import argmax\n",
    "import statistics\n",
    "import matplotlib.pyplot as plt\n",
    "import numpy as np\n",
    "from tensorflow.keras import Input\n",
    "from sklearn.model_selection import train_test_split\n",
    "from tensorflow.keras.models import Sequential, Model\n",
    "from tensorflow.keras.layers import Dense, LSTM, Dropout\n",
    "from tensorflow.keras.callbacks import EarlyStopping"
   ]
  },
  {
   "cell_type": "code",
   "execution_count": 2,
   "id": "76ab9b46",
   "metadata": {},
   "outputs": [
    {
     "name": "stdout",
     "output_type": "stream",
     "text": [
      "Unzipped system_calls.zip\n"
     ]
    }
   ],
   "source": [
    "from zipfile import ZipFile\n",
    "file_name = \"New Dataset/system_calls.zip\"\n",
    "\n",
    "with ZipFile(file_name, 'r') as zip:\n",
    "  zip.extractall()\n",
    "  print('Unzipped system_calls.zip')"
   ]
  },
  {
   "cell_type": "code",
   "execution_count": 3,
   "id": "9d67e40a",
   "metadata": {},
   "outputs": [],
   "source": [
    "# Reading counts.txt and storing in panads df\n",
    "counts_text = pd.read_csv(\"New Dataset/counts.txt\")"
   ]
  },
  {
   "cell_type": "code",
   "execution_count": 4,
   "id": "492e822b",
   "metadata": {},
   "outputs": [],
   "source": [
    "# Opening the extracted sys_calls file and replacing ':' with ','\n",
    "\n",
    "# List that holds the priginal dataset in string format\n",
    "system_calls = []\n",
    "i = 0\n",
    "\n",
    "with open('system_calls.txt') as f:\n",
    "    while True:\n",
    "        request = f.readline()\n",
    "        if(len(request) == 0):\n",
    "            break\n",
    "        system_calls.append(request)\n",
    "        i += 1\n",
    "for i in range(len(system_calls)):\n",
    "    system_calls[i] = system_calls[i].replace(\":\",\",\")"
   ]
  },
  {
   "cell_type": "code",
   "execution_count": 5,
   "id": "eb94c84d",
   "metadata": {},
   "outputs": [
    {
     "data": {
      "text/plain": [
       "'\\n'"
      ]
     },
     "execution_count": 5,
     "metadata": {},
     "output_type": "execute_result"
    }
   ],
   "source": [
    "len(system_calls)\n",
    "system_calls[0][-1]"
   ]
  },
  {
   "cell_type": "code",
   "execution_count": 6,
   "id": "2b65dcbf",
   "metadata": {},
   "outputs": [],
   "source": [
    "# Saving replaced file as \"dataset.txt\"\n",
    "f = open(\"dataset.txt\", \"w\")\n",
    "for i in range(len(system_calls)):\n",
    "    f.write(system_calls[i])\n",
    "f.close()\n",
    "\n",
    "# dataset.txt which contains IDs and system call sequences can now be used as a csv "
   ]
  },
  {
   "cell_type": "code",
   "execution_count": 7,
   "id": "3b0fc49b",
   "metadata": {},
   "outputs": [
    {
     "data": {
      "text/plain": [
       "0        15403_12_1558061203352552595\n",
       "1        15403_12_1558061203873994946\n",
       "2        15403_12_1558061203901555711\n",
       "3        15403_12_1558061203925100262\n",
       "4        15403_12_1558061203961228441\n",
       "                     ...             \n",
       "46682    15698_12_1558061453221782438\n",
       "46683    15698_12_1558061453405086529\n",
       "46684    15698_12_1558061453589605045\n",
       "46685    15698_12_1558061453776009239\n",
       "46686    15698_12_1558061453953786306\n",
       "Name: ID, Length: 46687, dtype: object"
      ]
     },
     "execution_count": 7,
     "metadata": {},
     "output_type": "execute_result"
    }
   ],
   "source": [
    "# Printing count.txt using column names\n",
    "counts_text['ID']"
   ]
  },
  {
   "cell_type": "code",
   "execution_count": 8,
   "id": "00a0a59a",
   "metadata": {},
   "outputs": [],
   "source": [
    "# Dictionary that maps request ID to completion time\n",
    "ID_to_Time_dict = {}\n",
    "\n",
    "# This loop run through the counts_txt table and maps the keys(IDs) to the values (Time taken)\n",
    "for i in range(len(counts_text['Time'])):\n",
    "    ID_to_Time_dict[counts_text['ID'][i]] = counts_text['Time'][i]\n"
   ]
  },
  {
   "cell_type": "code",
   "execution_count": 9,
   "id": "128641eb",
   "metadata": {},
   "outputs": [
    {
     "data": {
      "text/plain": [
       "45413"
      ]
     },
     "execution_count": 9,
     "metadata": {},
     "output_type": "execute_result"
    }
   ],
   "source": [
    "len(ID_to_Time_dict)"
   ]
  },
  {
   "cell_type": "code",
   "execution_count": 10,
   "id": "541f714b",
   "metadata": {},
   "outputs": [],
   "source": [
    "# List that hold all the request time taken\n",
    "req_durations = []\n",
    "\n",
    "file = open(\"Dataset.txt\",\"w\")\n",
    "\n",
    "def write_to_file(req):\n",
    "    if req[0] in ID_to_Time_dict:\n",
    "        file.write(req[0])\n",
    "        file.write(\",\")\n",
    "        file.write(str(ID_to_Time_dict[str(req[0])]))\n",
    "        req_durations.append(int(ID_to_Time_dict[str(req[0])]))\n",
    "        file.write(\",\")\n",
    "        for i in range(1,len(req)):\n",
    "            file.write(req[i])\n",
    "            if i != len(req) -1 :\n",
    "                file.write(\",\")\n",
    "    \n",
    "\n",
    "for i in range(len(system_calls)):\n",
    "    write_to_file(system_calls[i].split(\",\"))\n",
    "\n",
    "file.close()\n"
   ]
  },
  {
   "cell_type": "code",
   "execution_count": 11,
   "id": "a6a52f27",
   "metadata": {},
   "outputs": [],
   "source": [
    "file = open(\"Dataset.txt\",\"r\")\n",
    "requests= []\n",
    "while True:\n",
    "    line = file.readline()\n",
    "    if(len(line) == 0):\n",
    "        break\n",
    "    requests.append(line.split(\",\"))\n",
    "    \n"
   ]
  },
  {
   "cell_type": "code",
   "execution_count": 12,
   "id": "350e561b",
   "metadata": {},
   "outputs": [
    {
     "data": {
      "text/plain": [
       "45413"
      ]
     },
     "execution_count": 12,
     "metadata": {},
     "output_type": "execute_result"
    }
   ],
   "source": [
    "len(requests)"
   ]
  },
  {
   "cell_type": "code",
   "execution_count": 13,
   "id": "9b868fb7",
   "metadata": {},
   "outputs": [],
   "source": [
    "# List which holds all unique system calls present in the dataset\n",
    "unique_system_calls = []\n",
    "\n",
    "for i in range(len(requests)):\n",
    "    for j in range(2,len(requests[i])):\n",
    "        if requests[i][j] not in unique_system_calls and requests[i][j] != '$\\n':\n",
    "            unique_system_calls.append(requests[i][j])\n",
    "        "
   ]
  },
  {
   "cell_type": "code",
   "execution_count": 14,
   "id": "5553d305",
   "metadata": {},
   "outputs": [
    {
     "name": "stdout",
     "output_type": "stream",
     "text": [
      "['getsockname', 'fcntl', 'mmap', 'read', 'newstat', 'open', 'newfstat', 'close', 'brk', 'setitimer', 'rt_sigaction', 'rt_sigprocmask', 'getcwd', 'chdir', 'access', 'getdents', 'sysinfo', 'socket', 'connect', 'poll', 'recvfrom', 'sendto', 'newlstat', 'munmap', 'madvise', 'nanosleep', 'writev', 'write', 'times', 'shutdown', 'accept4']\n",
      "31\n"
     ]
    }
   ],
   "source": [
    "# Unique system calls present in the dataset\n",
    "\n",
    "print(unique_system_calls)\n",
    "print(len(unique_system_calls))"
   ]
  },
  {
   "cell_type": "code",
   "execution_count": 15,
   "id": "7aea791a",
   "metadata": {},
   "outputs": [],
   "source": [
    "# Mapping system call names to unique integers\n",
    "system_call_to_value_dict = {}\n",
    "num = 1\n",
    "for i in range(len(unique_system_calls)):\n",
    "    system_call_to_value_dict[str(unique_system_calls[i])] = num\n",
    "    num += 1"
   ]
  },
  {
   "cell_type": "code",
   "execution_count": 16,
   "id": "2c5ccfdd",
   "metadata": {},
   "outputs": [
    {
     "data": {
      "text/plain": [
       "{'getsockname': 1,\n",
       " 'fcntl': 2,\n",
       " 'mmap': 3,\n",
       " 'read': 4,\n",
       " 'newstat': 5,\n",
       " 'open': 6,\n",
       " 'newfstat': 7,\n",
       " 'close': 8,\n",
       " 'brk': 9,\n",
       " 'setitimer': 10,\n",
       " 'rt_sigaction': 11,\n",
       " 'rt_sigprocmask': 12,\n",
       " 'getcwd': 13,\n",
       " 'chdir': 14,\n",
       " 'access': 15,\n",
       " 'getdents': 16,\n",
       " 'sysinfo': 17,\n",
       " 'socket': 18,\n",
       " 'connect': 19,\n",
       " 'poll': 20,\n",
       " 'recvfrom': 21,\n",
       " 'sendto': 22,\n",
       " 'newlstat': 23,\n",
       " 'munmap': 24,\n",
       " 'madvise': 25,\n",
       " 'nanosleep': 26,\n",
       " 'writev': 27,\n",
       " 'write': 28,\n",
       " 'times': 29,\n",
       " 'shutdown': 30,\n",
       " 'accept4': 31}"
      ]
     },
     "execution_count": 16,
     "metadata": {},
     "output_type": "execute_result"
    }
   ],
   "source": [
    "# Dictionary holding the mappings\n",
    "system_call_to_value_dict "
   ]
  },
  {
   "cell_type": "code",
   "execution_count": 17,
   "id": "3d94ecad",
   "metadata": {},
   "outputs": [],
   "source": [
    "# Converting system calls names to unique integers\n",
    "for i in range(len(requests)):\n",
    "    for j in range(len(requests[i])):\n",
    "            if requests[i][j] in system_call_to_value_dict:\n",
    "                requests[i][j] = int(system_call_to_value_dict[requests[i][j]])"
   ]
  },
  {
   "cell_type": "code",
   "execution_count": 18,
   "id": "436a9cc0",
   "metadata": {},
   "outputs": [
    {
     "name": "stdout",
     "output_type": "stream",
     "text": [
      "STATISTICS ON DURATION\n",
      "Maximum:  223.81729449\n",
      "Minimum:  0.00143172\n",
      "Mean:  1.3914579438962411\n",
      "Standard Deviation:  5.113169024522863\n"
     ]
    }
   ],
   "source": [
    "# Statistics of the time taken by the requests\n",
    "\n",
    "nano = 100000000\n",
    "\n",
    "# List containing numbers from 1 to n, where n = total number of requests\n",
    "num_requests = [i for i in range(1,len(req_durations)+1)]\n",
    "# List containing durations of requests\n",
    "req_durations = [req_durations[i]/nano for i in range(len(req_durations))]\n",
    "# list containing length of requests\n",
    "req_lengths = [len(requests[i]) for i in range(len(requests))]\n",
    "\n",
    "\n",
    "# variables for storing Duration stats\n",
    "maximum_dur = max(req_durations)\n",
    "minimum_dur = min(req_durations)\n",
    "mean_dur = statistics.mean(req_durations)\n",
    "std_dev_dur = statistics.stdev(req_durations)\n",
    "\n",
    "print(\"STATISTICS ON DURATION\")\n",
    "print(\"Maximum: \", maximum_dur)\n",
    "print(\"Minimum: \", minimum_dur)\n",
    "print(\"Mean: \", mean_dur)\n",
    "print(\"Standard Deviation: \", std_dev_dur)\n",
    "\n"
   ]
  },
  {
   "cell_type": "code",
   "execution_count": 19,
   "id": "47be34a7",
   "metadata": {},
   "outputs": [
    {
     "data": {
      "image/png": "[encoded data removed]",
      "text/plain": [
       "<Figure size 432x288 with 1 Axes>"
      ]
     },
     "metadata": {
      "needs_background": "light"
     },
     "output_type": "display_data"
    }
   ],
   "source": [
    "plt.plot(req_lengths,req_durations)\n",
    "plt.xlabel(\"Request Length\")\n",
    "plt.ylabel(\"Time taken\")\n",
    "plt.show()"
   ]
  },
  {
   "cell_type": "code",
   "execution_count": 20,
   "id": "ce0b6a42",
   "metadata": {},
   "outputs": [],
   "source": [
    "# List containing length/duration ratio of requests\n",
    "length_duration_ratio = []\n",
    "\n",
    "for i in range(len(req_durations)):\n",
    "    length_duration_ratio.append(req_lengths[i]/req_durations[i])\n",
    "\n"
   ]
  },
  {
   "cell_type": "code",
   "execution_count": 21,
   "id": "77ca0a6c",
   "metadata": {},
   "outputs": [
    {
     "name": "stdout",
     "output_type": "stream",
     "text": [
      "STATISTICS ON RATIO(LENGTH/DURATION)\n",
      "Maximum:  9079.987707093565\n",
      "Minimum:  1.2637585718500415\n",
      "Mean:  225.642070835443\n",
      "Standard Deviation:  108.05662936006965\n"
     ]
    }
   ],
   "source": [
    "#variables for storing Duration stats\n",
    "\n",
    "maximum_ratio = max(length_duration_ratio)\n",
    "minimum_ratio = min(length_duration_ratio)\n",
    "mean_ratio = statistics.mean(length_duration_ratio)\n",
    "std_dev_ratio = statistics.stdev(length_duration_ratio)\n",
    "\n",
    "print(\"STATISTICS ON RATIO(LENGTH/DURATION)\")\n",
    "print(\"Maximum: \", maximum_ratio)\n",
    "print(\"Minimum: \", minimum_ratio)\n",
    "print(\"Mean: \", mean_ratio)\n",
    "print(\"Standard Deviation: \", std_dev_ratio)"
   ]
  },
  {
   "cell_type": "code",
   "execution_count": 22,
   "id": "4d005f3b",
   "metadata": {},
   "outputs": [],
   "source": [
    "# Threshod for anomalies\n",
    "th = mean_ratio + (std_dev_ratio)\n",
    "counter = 0\n",
    "\n",
    "for i in range(len(length_duration_ratio)):\n",
    "    if length_duration_ratio[i] > th:\n",
    "        counter += 1"
   ]
  },
  {
   "cell_type": "code",
   "execution_count": 23,
   "id": "e411ce8e",
   "metadata": {},
   "outputs": [
    {
     "data": {
      "text/plain": [
       "333.69870019551263"
      ]
     },
     "execution_count": 23,
     "metadata": {},
     "output_type": "execute_result"
    }
   ],
   "source": [
    "th"
   ]
  },
  {
   "cell_type": "code",
   "execution_count": 24,
   "id": "08a31f4e",
   "metadata": {},
   "outputs": [
    {
     "data": {
      "text/plain": [
       "4685"
      ]
     },
     "execution_count": 24,
     "metadata": {},
     "output_type": "execute_result"
    }
   ],
   "source": [
    "counter"
   ]
  },
  {
   "cell_type": "code",
   "execution_count": 25,
   "id": "0e1239ef",
   "metadata": {},
   "outputs": [
    {
     "data": {
      "text/plain": [
       "45413"
      ]
     },
     "execution_count": 25,
     "metadata": {},
     "output_type": "execute_result"
    }
   ],
   "source": [
    "len(requests)"
   ]
  },
  {
   "cell_type": "code",
   "execution_count": 26,
   "id": "6823b9cb",
   "metadata": {},
   "outputs": [],
   "source": [
    "# List contaning all the anomolous requests\n",
    "anomaly = []\n",
    "# List containing all the normal requests\n",
    "normal = []\n",
    "\n",
    "\n",
    "def append_arr(arr,n):\n",
    "    temp = []\n",
    "    del arr[-1]\n",
    "    if n == 1:\n",
    "        for i in range(2,len(arr)):\n",
    "            temp.append(arr[i])\n",
    "    else:\n",
    "        for i in range(2,len(arr)):\n",
    "            temp.append(arr[i])\n",
    "    return temp \n",
    "        \n",
    "    \n",
    "for i in range(len(length_duration_ratio)):\n",
    "    if length_duration_ratio[i] > th:\n",
    "        anomaly.append(append_arr(requests[i],1))\n",
    "    else:\n",
    "        normal.append(append_arr(requests[i],0))\n",
    "        \n"
   ]
  },
  {
   "cell_type": "code",
   "execution_count": 27,
   "id": "f71a35c4",
   "metadata": {},
   "outputs": [
    {
     "data": {
      "text/plain": [
       "4685"
      ]
     },
     "execution_count": 27,
     "metadata": {},
     "output_type": "execute_result"
    }
   ],
   "source": [
    "len(anomaly)"
   ]
  },
  {
   "cell_type": "code",
   "execution_count": 28,
   "id": "33518099",
   "metadata": {},
   "outputs": [],
   "source": [
    "#Generating one hot vectors\n",
    "dict = {}\n",
    "vocab_size = 60\n",
    "\n",
    "for x in range(vocab_size):\n",
    "    arr=[]\n",
    "    arr = [0 for i in range(vocab_size)] \n",
    "    arr[x] = 1\n",
    "    dict[x] = arr"
   ]
  },
  {
   "cell_type": "code",
   "execution_count": 36,
   "id": "d9ef165a",
   "metadata": {},
   "outputs": [],
   "source": [
    "#Sequence size\n",
    "n = 15\n",
    "#N-Gram\n",
    "m = 3"
   ]
  },
  {
   "cell_type": "code",
   "execution_count": 37,
   "id": "edb51e37",
   "metadata": {},
   "outputs": [],
   "source": [
    "# This method receives a request array and returns one hot encoded version of that array\n",
    "def generate_trainSet(request):\n",
    "    temp = []\n",
    "    for sys_call in request:\n",
    "        temp.append(dict[sys_call])\n",
    "    return temp\n",
    "\n",
    "# This method recevies a request array, start and  end of the request and populates x_train and y_train\n",
    "# with returned one hot version from the generate_trainSet method\n",
    "def split_request(source, target, request, start, end):\n",
    "    while(len(request)-start >= n+m):\n",
    "        source.append(generate_trainSet(request[start:end]))\n",
    "        start += m\n",
    "        end += m\n",
    "        target.append(generate_trainSet(request[start:end]))"
   ]
  },
  {
   "cell_type": "code",
   "execution_count": 59,
   "id": "dc99c6cc",
   "metadata": {},
   "outputs": [],
   "source": [
    "x_train = []\n",
    "y_train = [] \n",
    "\n",
    "# Populating x_train and y_train with sources and targets\n",
    "for i in range(int(len(normal)/30)):\n",
    "    split_request(x_train, y_train, normal[i],0,n)"
   ]
  },
  {
   "cell_type": "code",
   "execution_count": 60,
   "id": "1955f80c",
   "metadata": {},
   "outputs": [
    {
     "name": "stdout",
     "output_type": "stream",
     "text": [
      "104610\n"
     ]
    }
   ],
   "source": [
    "print(len(x_train))"
   ]
  },
  {
   "cell_type": "code",
   "execution_count": 61,
   "id": "4ef8c2ee",
   "metadata": {},
   "outputs": [],
   "source": [
    "# Converting x_train and y_train into np arrays\n",
    "x_train = np.array(x_train)\n",
    "y_train = np.array(y_train)"
   ]
  },
  {
   "cell_type": "code",
   "execution_count": 62,
   "id": "68ea1fe7",
   "metadata": {},
   "outputs": [
    {
     "name": "stdout",
     "output_type": "stream",
     "text": [
      "(104610, 15, 60)\n"
     ]
    }
   ],
   "source": [
    "#x_train = x_train.reshape((x_train.shape[0], x_train.shape[1], 1))\n",
    "print(x_train.shape)"
   ]
  },
  {
   "cell_type": "code",
   "execution_count": 63,
   "id": "e4fc0c17",
   "metadata": {},
   "outputs": [],
   "source": [
    "# split test data into training and testing sets\n",
    "x_train, x_test,y_train,y_test = train_test_split(x_train,y_train,test_size=0.2,random_state=4)"
   ]
  },
  {
   "cell_type": "code",
   "execution_count": 64,
   "id": "608d427e",
   "metadata": {},
   "outputs": [
    {
     "name": "stdout",
     "output_type": "stream",
     "text": [
      "Model: \"model_LSTM_all_state_h_return_state\"\n",
      "__________________________________________________________________________________________________\n",
      " Layer (type)                   Output Shape         Param #     Connected to                     \n",
      "==================================================================================================\n",
      " input_3 (InputLayer)           [(None, 15, 60)]     0           []                               \n",
      "                                                                                                  \n",
      " lstm_4 (LSTM)                  [(None, 15, 200),    208800      ['input_3[0][0]']                \n",
      "                                 (None, 200),                                                     \n",
      "                                 (None, 200)]                                                     \n",
      "                                                                                                  \n",
      " lstm_5 (LSTM)                  (None, 15, 200)      320800      ['lstm_4[0][0]',                 \n",
      "                                                                  'lstm_4[0][1]',                 \n",
      "                                                                  'lstm_4[0][2]']                 \n",
      "                                                                                                  \n",
      " dense_2 (Dense)                (None, 15, 60)       12060       ['lstm_5[0][0]']                 \n",
      "                                                                                                  \n",
      "==================================================================================================\n",
      "Total params: 541,660\n",
      "Trainable params: 541,660\n",
      "Non-trainable params: 0\n",
      "__________________________________________________________________________________________________\n"
     ]
    }
   ],
   "source": [
    "n_timesteps = n\n",
    "n_features = vocab_size\n",
    "numberOfUnits = 200\n",
    "\n",
    "input= Input(shape=(n_timesteps, n_features))\n",
    "\n",
    "lstm1 = LSTM(numberOfUnits,return_sequences=True, return_state=True)\n",
    "all_state_h, state_h, state_c = lstm1(input) \n",
    "states = [state_h, state_c]\n",
    "\n",
    "lstm2 = LSTM(numberOfUnits,return_sequences=True)\n",
    "all_state_h = lstm2(all_state_h,initial_state=states)\n",
    "\n",
    "dense = (Dense(n_features, activation='softmax'))\n",
    "output = dense(all_state_h)\n",
    "model_LSTM_return_sequences_return_state = Model(input,output,\n",
    "                                name='model_LSTM_all_state_h_return_state')\n",
    "model_LSTM_return_sequences_return_state.compile(loss='categorical_crossentropy', \n",
    "                                                 optimizer='adam',\n",
    "                                                 metrics=['accuracy'])\n",
    "model_LSTM_return_sequences_return_state.summary()"
   ]
  },
  {
   "cell_type": "code",
   "execution_count": 65,
   "id": "533b21e6",
   "metadata": {},
   "outputs": [],
   "source": [
    "def train_test(model, X_train, y_train , \n",
    "               X_test, \ty_test, epochs=50, \n",
    "\t\t\t\t\t\t\t        verbose=0, patience=5):\n",
    "\t# patient early stopping\n",
    "\t#es = EarlyStopping(monitor='val_accuracy', mode='max', min_delta=1, patience=20)\n",
    "\tes = EarlyStopping(monitor='val_loss', mode='min', \n",
    "\t                   verbose=1, patience=patience)\n",
    "\t# train model\n",
    "\tprint('training for ',epochs,\n",
    "\t      ' epochs begins with',\n",
    "\t\t\t\t' EarlyStopping(monitor= val_loss ',\n",
    "\t\t\t\t' patience=',patience,')....')\n",
    "\thistory=model.fit(X_train, y_train, validation_split= 0.1, epochs=epochs,  verbose=verbose, callbacks=[es])\n",
    "\tprint(epochs,' epoch training finished...')\n",
    "\n",
    "\t# report training\n",
    "\t# list all data in history\n",
    "\tprint(history.history.keys())\n",
    "\t# evaluate the model\n",
    "\t_, train_acc = model.evaluate(X_train, y_train, verbose=0)\n",
    "\t_, test_acc = model.evaluate(X_test, \ty_test, verbose=0)\n",
    "\tprint('\\nPREDICTION ACCURACY (%):')\n",
    "\tprint('Train: %.3f, Test: %.3f' % (train_acc*100, test_acc*100))\n",
    "\t# summarize history for accuracy\n",
    "\tplt.plot(history.history['accuracy'])\n",
    "\tplt.plot(history.history['val_accuracy'])\n",
    "\tplt.title(model.name+' accuracy')\n",
    "\tplt.ylabel('accuracy')\n",
    "\tplt.xlabel('epoch')\n",
    "\tplt.legend(['train', 'val'], loc='upper left')\n",
    "\tplt.show()\n",
    "\t# summarize history for loss\n",
    "\tplt.plot(history.history['loss'])\n",
    "\tplt.plot(history.history['val_loss'])\n",
    "\tplt.title(model.name+' loss')\n",
    "\tplt.ylabel('loss')\n",
    "\tplt.xlabel('epoch')\n",
    "\tplt.legend(['train', 'val'], loc='upper left')\n",
    "\tplt.show()"
   ]
  },
  {
   "cell_type": "code",
   "execution_count": 66,
   "id": "31fb021d",
   "metadata": {},
   "outputs": [
    {
     "name": "stdout",
     "output_type": "stream",
     "text": [
      "training for  50  epochs begins with  EarlyStopping(monitor= val_loss   patience= 5 )....\n",
      "Epoch 28: early stopping\n",
      "50  epoch training finished...\n",
      "dict_keys(['loss', 'accuracy', 'val_loss', 'val_accuracy'])\n",
      "\n",
      "PREDICTION ACCURACY (%):\n",
      "Train: 98.713, Test: 98.592\n"
     ]
    },
    {
     "data": {
      "image/png": "[encoded data removed]",
      "text/plain": [
       "<Figure size 432x288 with 1 Axes>"
      ]
     },
     "metadata": {
      "needs_background": "light"
     },
     "output_type": "display_data"
    },
    {
     "data": {
      "image/png": "[encoded data removed]",
      "text/plain": [
       "<Figure size 432x288 with 1 Axes>"
      ]
     },
     "metadata": {
      "needs_background": "light"
     },
     "output_type": "display_data"
    }
   ],
   "source": [
    "train_test(model_LSTM_return_sequences_return_state, x_train, y_train , x_test, y_test)"
   ]
  },
  {
   "cell_type": "code",
   "execution_count": 67,
   "id": "26c5534b",
   "metadata": {},
   "outputs": [],
   "source": [
    "def one_hot_decode(arr):\n",
    "    for index,num in enumerate(arr):\n",
    "        if num == 1:\n",
    "            return index\n",
    "\n",
    "def decode(arr, three_d_array):\n",
    "    for seq in three_d_array:\n",
    "        temp = []\n",
    "        for one_hot in seq:\n",
    "            temp.append(one_hot_decode(one_hot))\n",
    "        arr.append(temp)\n",
    "    \n",
    "        "
   ]
  },
  {
   "cell_type": "code",
   "execution_count": 68,
   "id": "69b4aa87",
   "metadata": {},
   "outputs": [],
   "source": [
    "def prediction_decode(arr, prediction):\n",
    "    for seq in prediction:\n",
    "        predict_temp = []\n",
    "        for one_hot in seq:\n",
    "            predict_temp.append(argmax(one_hot))\n",
    "        arr.append(predict_temp)\n",
    "    \n",
    "    "
   ]
  },
  {
   "cell_type": "code",
   "execution_count": 97,
   "id": "6d70a0e9",
   "metadata": {},
   "outputs": [],
   "source": [
    "# Decoded vectors x_test and y_test\n",
    "x_test_decoded = []\n",
    "y_test_decoded = []\n",
    "i = 1\n",
    "\n",
    "#For simplicity, test number\n",
    "test_number = len(x_test)\n",
    "\n",
    "while(i < test_number):\n",
    "    decode(x_test_decoded,x_test[i-1:i])\n",
    "    decode(y_test_decoded,y_test[i-1:i])\n",
    "    i += 1"
   ]
  },
  {
   "cell_type": "code",
   "execution_count": 98,
   "id": "c2b405da",
   "metadata": {},
   "outputs": [
    {
     "ename": "KeyboardInterrupt",
     "evalue": "",
     "output_type": "error",
     "traceback": [
      "\u001b[1;31m---------------------------------------------------------------------------\u001b[0m",
      "\u001b[1;31mKeyboardInterrupt\u001b[0m                         Traceback (most recent call last)",
      "Input \u001b[1;32mIn [98]\u001b[0m, in \u001b[0;36m<cell line: 3>\u001b[1;34m()\u001b[0m\n\u001b[0;32m      2\u001b[0m i \u001b[38;5;241m=\u001b[39m \u001b[38;5;241m1\u001b[39m\n\u001b[0;32m      3\u001b[0m \u001b[38;5;28;01mwhile\u001b[39;00m(i \u001b[38;5;241m<\u001b[39m test_number):\n\u001b[1;32m----> 4\u001b[0m     prediction_decode(predictions, \u001b[43mmodel_LSTM_return_sequences_return_state\u001b[49m\u001b[38;5;241;43m.\u001b[39;49m\u001b[43mpredict\u001b[49m\u001b[43m(\u001b[49m\u001b[43mx_test\u001b[49m\u001b[43m[\u001b[49m\u001b[43mi\u001b[49m\u001b[38;5;241;43m-\u001b[39;49m\u001b[38;5;241;43m1\u001b[39;49m\u001b[43m:\u001b[49m\u001b[43mi\u001b[49m\u001b[43m]\u001b[49m\u001b[43m)\u001b[49m)\n\u001b[0;32m      5\u001b[0m     i \u001b[38;5;241m+\u001b[39m\u001b[38;5;241m=\u001b[39m \u001b[38;5;241m1\u001b[39m\n",
      "File \u001b[1;32m~\\miniconda3\\envs\\tensorflow\\lib\\site-packages\\keras\\utils\\traceback_utils.py:64\u001b[0m, in \u001b[0;36mfilter_traceback.<locals>.error_handler\u001b[1;34m(*args, **kwargs)\u001b[0m\n\u001b[0;32m     62\u001b[0m filtered_tb \u001b[38;5;241m=\u001b[39m \u001b[38;5;28;01mNone\u001b[39;00m\n\u001b[0;32m     63\u001b[0m \u001b[38;5;28;01mtry\u001b[39;00m:\n\u001b[1;32m---> 64\u001b[0m   \u001b[38;5;28;01mreturn\u001b[39;00m fn(\u001b[38;5;241m*\u001b[39margs, \u001b[38;5;241m*\u001b[39m\u001b[38;5;241m*\u001b[39mkwargs)\n\u001b[0;32m     65\u001b[0m \u001b[38;5;28;01mexcept\u001b[39;00m \u001b[38;5;167;01mException\u001b[39;00m \u001b[38;5;28;01mas\u001b[39;00m e:  \u001b[38;5;66;03m# pylint: disable=broad-except\u001b[39;00m\n\u001b[0;32m     66\u001b[0m   filtered_tb \u001b[38;5;241m=\u001b[39m _process_traceback_frames(e\u001b[38;5;241m.\u001b[39m__traceback__)\n",
      "File \u001b[1;32m~\\miniconda3\\envs\\tensorflow\\lib\\site-packages\\keras\\engine\\training.py:1978\u001b[0m, in \u001b[0;36mModel.predict\u001b[1;34m(self, x, batch_size, verbose, steps, callbacks, max_queue_size, workers, use_multiprocessing)\u001b[0m\n\u001b[0;32m   1976\u001b[0m callbacks\u001b[38;5;241m.\u001b[39mon_predict_begin()\n\u001b[0;32m   1977\u001b[0m batch_outputs \u001b[38;5;241m=\u001b[39m \u001b[38;5;28;01mNone\u001b[39;00m\n\u001b[1;32m-> 1978\u001b[0m \u001b[38;5;28;01mfor\u001b[39;00m _, iterator \u001b[38;5;129;01min\u001b[39;00m data_handler\u001b[38;5;241m.\u001b[39menumerate_epochs():  \u001b[38;5;66;03m# Single epoch.\u001b[39;00m\n\u001b[0;32m   1979\u001b[0m   \u001b[38;5;28;01mwith\u001b[39;00m data_handler\u001b[38;5;241m.\u001b[39mcatch_stop_iteration():\n\u001b[0;32m   1980\u001b[0m     \u001b[38;5;28;01mfor\u001b[39;00m step \u001b[38;5;129;01min\u001b[39;00m data_handler\u001b[38;5;241m.\u001b[39msteps():\n",
      "File \u001b[1;32m~\\miniconda3\\envs\\tensorflow\\lib\\site-packages\\keras\\engine\\data_adapter.py:1191\u001b[0m, in \u001b[0;36mDataHandler.enumerate_epochs\u001b[1;34m(self)\u001b[0m\n\u001b[0;32m   1189\u001b[0m \u001b[38;5;124;03m\"\"\"Yields `(epoch, tf.data.Iterator)`.\"\"\"\u001b[39;00m\n\u001b[0;32m   1190\u001b[0m \u001b[38;5;28;01mwith\u001b[39;00m \u001b[38;5;28mself\u001b[39m\u001b[38;5;241m.\u001b[39m_truncate_execution_to_epoch():\n\u001b[1;32m-> 1191\u001b[0m   data_iterator \u001b[38;5;241m=\u001b[39m \u001b[38;5;28;43miter\u001b[39;49m\u001b[43m(\u001b[49m\u001b[38;5;28;43mself\u001b[39;49m\u001b[38;5;241;43m.\u001b[39;49m\u001b[43m_dataset\u001b[49m\u001b[43m)\u001b[49m\n\u001b[0;32m   1192\u001b[0m   \u001b[38;5;28;01mfor\u001b[39;00m epoch \u001b[38;5;129;01min\u001b[39;00m \u001b[38;5;28mrange\u001b[39m(\u001b[38;5;28mself\u001b[39m\u001b[38;5;241m.\u001b[39m_initial_epoch, \u001b[38;5;28mself\u001b[39m\u001b[38;5;241m.\u001b[39m_epochs):\n\u001b[0;32m   1193\u001b[0m     \u001b[38;5;28;01mif\u001b[39;00m \u001b[38;5;28mself\u001b[39m\u001b[38;5;241m.\u001b[39m_insufficient_data:  \u001b[38;5;66;03m# Set by `catch_stop_iteration`.\u001b[39;00m\n",
      "File \u001b[1;32m~\\miniconda3\\envs\\tensorflow\\lib\\site-packages\\tensorflow\\python\\data\\ops\\dataset_ops.py:486\u001b[0m, in \u001b[0;36mDatasetV2.__iter__\u001b[1;34m(self)\u001b[0m\n\u001b[0;32m    484\u001b[0m \u001b[38;5;28;01mif\u001b[39;00m context\u001b[38;5;241m.\u001b[39mexecuting_eagerly() \u001b[38;5;129;01mor\u001b[39;00m ops\u001b[38;5;241m.\u001b[39minside_function():\n\u001b[0;32m    485\u001b[0m   \u001b[38;5;28;01mwith\u001b[39;00m ops\u001b[38;5;241m.\u001b[39mcolocate_with(\u001b[38;5;28mself\u001b[39m\u001b[38;5;241m.\u001b[39m_variant_tensor):\n\u001b[1;32m--> 486\u001b[0m     \u001b[38;5;28;01mreturn\u001b[39;00m \u001b[43miterator_ops\u001b[49m\u001b[38;5;241;43m.\u001b[39;49m\u001b[43mOwnedIterator\u001b[49m\u001b[43m(\u001b[49m\u001b[38;5;28;43mself\u001b[39;49m\u001b[43m)\u001b[49m\n\u001b[0;32m    487\u001b[0m \u001b[38;5;28;01melse\u001b[39;00m:\n\u001b[0;32m    488\u001b[0m   \u001b[38;5;28;01mraise\u001b[39;00m \u001b[38;5;167;01mRuntimeError\u001b[39;00m(\u001b[38;5;124m\"\u001b[39m\u001b[38;5;124m`tf.data.Dataset` only supports Python-style \u001b[39m\u001b[38;5;124m\"\u001b[39m\n\u001b[0;32m    489\u001b[0m                      \u001b[38;5;124m\"\u001b[39m\u001b[38;5;124miteration in eager mode or within tf.function.\u001b[39m\u001b[38;5;124m\"\u001b[39m)\n",
      "File \u001b[1;32m~\\miniconda3\\envs\\tensorflow\\lib\\site-packages\\tensorflow\\python\\data\\ops\\iterator_ops.py:755\u001b[0m, in \u001b[0;36mOwnedIterator.__init__\u001b[1;34m(self, dataset, components, element_spec)\u001b[0m\n\u001b[0;32m    751\u001b[0m   \u001b[38;5;28;01mif\u001b[39;00m (components \u001b[38;5;129;01mis\u001b[39;00m \u001b[38;5;129;01mnot\u001b[39;00m \u001b[38;5;28;01mNone\u001b[39;00m \u001b[38;5;129;01mor\u001b[39;00m element_spec \u001b[38;5;129;01mis\u001b[39;00m \u001b[38;5;129;01mnot\u001b[39;00m \u001b[38;5;28;01mNone\u001b[39;00m):\n\u001b[0;32m    752\u001b[0m     \u001b[38;5;28;01mraise\u001b[39;00m \u001b[38;5;167;01mValueError\u001b[39;00m(\n\u001b[0;32m    753\u001b[0m         \u001b[38;5;124m\"\u001b[39m\u001b[38;5;124mWhen `dataset` is provided, `element_spec` and `components` must \u001b[39m\u001b[38;5;124m\"\u001b[39m\n\u001b[0;32m    754\u001b[0m         \u001b[38;5;124m\"\u001b[39m\u001b[38;5;124mnot be specified.\u001b[39m\u001b[38;5;124m\"\u001b[39m)\n\u001b[1;32m--> 755\u001b[0m   \u001b[38;5;28;43mself\u001b[39;49m\u001b[38;5;241;43m.\u001b[39;49m\u001b[43m_create_iterator\u001b[49m\u001b[43m(\u001b[49m\u001b[43mdataset\u001b[49m\u001b[43m)\u001b[49m\n\u001b[0;32m    757\u001b[0m \u001b[38;5;28mself\u001b[39m\u001b[38;5;241m.\u001b[39m_get_next_call_count \u001b[38;5;241m=\u001b[39m \u001b[38;5;241m0\u001b[39m\n",
      "File \u001b[1;32m~\\miniconda3\\envs\\tensorflow\\lib\\site-packages\\tensorflow\\python\\data\\ops\\iterator_ops.py:787\u001b[0m, in \u001b[0;36mOwnedIterator._create_iterator\u001b[1;34m(self, dataset)\u001b[0m\n\u001b[0;32m    782\u001b[0m \u001b[38;5;28;01melse\u001b[39;00m:\n\u001b[0;32m    783\u001b[0m   \u001b[38;5;28mself\u001b[39m\u001b[38;5;241m.\u001b[39m_iterator_resource, \u001b[38;5;28mself\u001b[39m\u001b[38;5;241m.\u001b[39m_deleter \u001b[38;5;241m=\u001b[39m (\n\u001b[0;32m    784\u001b[0m       gen_dataset_ops\u001b[38;5;241m.\u001b[39manonymous_iterator_v2(\n\u001b[0;32m    785\u001b[0m           output_types\u001b[38;5;241m=\u001b[39m\u001b[38;5;28mself\u001b[39m\u001b[38;5;241m.\u001b[39m_flat_output_types,\n\u001b[0;32m    786\u001b[0m           output_shapes\u001b[38;5;241m=\u001b[39m\u001b[38;5;28mself\u001b[39m\u001b[38;5;241m.\u001b[39m_flat_output_shapes))\n\u001b[1;32m--> 787\u001b[0m   \u001b[43mgen_dataset_ops\u001b[49m\u001b[38;5;241;43m.\u001b[39;49m\u001b[43mmake_iterator\u001b[49m\u001b[43m(\u001b[49m\u001b[43mds_variant\u001b[49m\u001b[43m,\u001b[49m\u001b[43m \u001b[49m\u001b[38;5;28;43mself\u001b[39;49m\u001b[38;5;241;43m.\u001b[39;49m\u001b[43m_iterator_resource\u001b[49m\u001b[43m)\u001b[49m\n\u001b[0;32m    788\u001b[0m   \u001b[38;5;66;03m# Delete the resource when this object is deleted\u001b[39;00m\n\u001b[0;32m    789\u001b[0m   \u001b[38;5;28mself\u001b[39m\u001b[38;5;241m.\u001b[39m_resource_deleter \u001b[38;5;241m=\u001b[39m IteratorResourceDeleter(\n\u001b[0;32m    790\u001b[0m       handle\u001b[38;5;241m=\u001b[39m\u001b[38;5;28mself\u001b[39m\u001b[38;5;241m.\u001b[39m_iterator_resource,\n\u001b[0;32m    791\u001b[0m       deleter\u001b[38;5;241m=\u001b[39m\u001b[38;5;28mself\u001b[39m\u001b[38;5;241m.\u001b[39m_deleter)\n",
      "File \u001b[1;32m~\\miniconda3\\envs\\tensorflow\\lib\\site-packages\\tensorflow\\python\\ops\\gen_dataset_ops.py:3314\u001b[0m, in \u001b[0;36mmake_iterator\u001b[1;34m(dataset, iterator, name)\u001b[0m\n\u001b[0;32m   3312\u001b[0m \u001b[38;5;28;01mif\u001b[39;00m tld\u001b[38;5;241m.\u001b[39mis_eager:\n\u001b[0;32m   3313\u001b[0m   \u001b[38;5;28;01mtry\u001b[39;00m:\n\u001b[1;32m-> 3314\u001b[0m     _result \u001b[38;5;241m=\u001b[39m \u001b[43mpywrap_tfe\u001b[49m\u001b[38;5;241;43m.\u001b[39;49m\u001b[43mTFE_Py_FastPathExecute\u001b[49m\u001b[43m(\u001b[49m\n\u001b[0;32m   3315\u001b[0m \u001b[43m      \u001b[49m\u001b[43m_ctx\u001b[49m\u001b[43m,\u001b[49m\u001b[43m \u001b[49m\u001b[38;5;124;43m\"\u001b[39;49m\u001b[38;5;124;43mMakeIterator\u001b[39;49m\u001b[38;5;124;43m\"\u001b[39;49m\u001b[43m,\u001b[49m\u001b[43m \u001b[49m\u001b[43mname\u001b[49m\u001b[43m,\u001b[49m\u001b[43m \u001b[49m\u001b[43mdataset\u001b[49m\u001b[43m,\u001b[49m\u001b[43m \u001b[49m\u001b[43miterator\u001b[49m\u001b[43m)\u001b[49m\n\u001b[0;32m   3316\u001b[0m     \u001b[38;5;28;01mreturn\u001b[39;00m _result\n\u001b[0;32m   3317\u001b[0m   \u001b[38;5;28;01mexcept\u001b[39;00m _core\u001b[38;5;241m.\u001b[39m_NotOkStatusException \u001b[38;5;28;01mas\u001b[39;00m e:\n",
      "\u001b[1;31mKeyboardInterrupt\u001b[0m: "
     ]
    }
   ],
   "source": [
    "predictions = []\n",
    "i = 1\n",
    "while(i < test_number):\n",
    "    prediction_decode(predictions, model_LSTM_return_sequences_return_state.predict(x_test[i-1:i]))\n",
    "    i += 1\n",
    "\n"
   ]
  },
  {
   "cell_type": "code",
   "execution_count": null,
   "id": "6916aca4",
   "metadata": {},
   "outputs": [],
   "source": [
    "attack_source = []\n",
    "attack_target = []\n",
    "attack_predict = []\n",
    "\n",
    "\n"
   ]
  },
  {
   "cell_type": "code",
   "execution_count": null,
   "id": "02fafc4c",
   "metadata": {},
   "outputs": [],
   "source": [
    "for i in range(len(anomaly)):\n",
    "    split_request(attack_source, attack_target, anomaly[i],0,n)\n",
    "\n",
    "# Decoded vectors x_test and y_test\n",
    "x_attack_decoded = []\n",
    "y_attack_decoded = []\n",
    "i = 1\n",
    "\n",
    "print(\"length attack source: \", len(anomaly))\n",
    "\n",
    "while(i < test_number):\n",
    "    decode(x_attack_decoded,attack_source[i-1:i])\n",
    "    decode(y_attack_decoded,attack_target[i-1:i])\n",
    "    i += 1\n"
   ]
  },
  {
   "cell_type": "code",
   "execution_count": null,
   "id": "fccc493c",
   "metadata": {},
   "outputs": [],
   "source": [
    "i = 1\n",
    "while(i < test_number):\n",
    "    prediction_decode(attack_predict, model_LSTM_return_sequences_return_state.predict(attack_source[i-1:i]))\n",
    "    i += 1"
   ]
  },
  {
   "cell_type": "code",
   "execution_count": null,
   "id": "00b59138",
   "metadata": {},
   "outputs": [],
   "source": [
    "# perfect match\n",
    "from nltk.translate.bleu_score import sentence_bleu\n",
    "def calc_belu(target, prediction):\n",
    "    reference = []\n",
    "    candidate = []\n",
    "    reference.append(target)\n",
    "    candidate.extend(prediction)\n",
    "    return sentence_bleu(reference, candidate, weights=(0, 0,5, 0.5))"
   ]
  },
  {
   "cell_type": "code",
   "execution_count": null,
   "id": "3574472c",
   "metadata": {},
   "outputs": [],
   "source": [
    "belu_scores_normal = []\n",
    "belu_scores_attack = []\n",
    "\n",
    "\n",
    "\n",
    "for i in range(len(y_test_decoded)):\n",
    "    belu_scores_normal.append(calc_belu(y_test_decoded[i],predictions[i]))\n",
    "\n",
    "for i in range(len(attack_predict)):\n",
    "    belu_scores_attack.append(calc_belu(y_attack_decoded[i],attack_predict[i]))\n",
    "    \n",
    "    "
   ]
  },
  {
   "cell_type": "code",
   "execution_count": null,
   "id": "ce565121",
   "metadata": {},
   "outputs": [],
   "source": [
    "import statistics\n",
    "print(\"Mean Normal: \", statistics.mean(belu_scores_normal))\n",
    "print(\"Lowest Normal: \", min(belu_scores_normal))\n",
    "print(\"Mean Attack: \", statistics.mean(belu_scores_attack))\n",
    "print(\"Lowest Attack: \", min(belu_scores_attack))\n",
    "\n",
    "count = 0\n",
    "count_attack = 0\n",
    "thresh = 0.95\n",
    "for i in range(len(belu_scores_normal)):\n",
    "    if (belu_scores_normal[i]<thresh):\n",
    "        count += 1\n",
    "    if (belu_scores_attack[i] > thresh):\n",
    "        count_attack += 1\n",
    "print(\"normal less than\", thresh, \" is \" ,count/len(belu_scores_normal)*100)\n",
    "print(\"attack more than\", thresh, \" is \" ,count_attack/len(belu_scores_normal)*100)\n"
   ]
  },
  {
   "cell_type": "code",
   "execution_count": null,
   "id": "0bd08ff2",
   "metadata": {},
   "outputs": [],
   "source": []
  }
 ],
 "metadata": {
  "kernelspec": {
   "display_name": "Python 3.9 (tensorflow)",
   "language": "python",
   "name": "tensorflow"
  },
  "language_info": {
   "codemirror_mode": {
    "name": "ipython",
    "version": 3
   },
   "file_extension": ".py",
   "mimetype": "text/x-python",
   "name": "python",
   "nbconvert_exporter": "python",
   "pygments_lexer": "ipython3",
   "version": "3.9.7"
  }
 },
 "nbformat": 4,
 "nbformat_minor": 5
}
